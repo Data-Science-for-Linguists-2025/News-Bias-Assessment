{
 "cells": [
  {
   "cell_type": "markdown",
   "id": "77712d7d-501a-4b2b-8338-a63bcc41eeb8",
   "metadata": {},
   "source": [
    "# Data Pipeline"
   ]
  },
  {
   "cell_type": "markdown",
   "id": "9f97d329-8efa-4c31-900e-10d63a1d7990",
   "metadata": {},
   "source": [
    "#### Working from existing pipeline from previous progress reports"
   ]
  },
  {
   "cell_type": "markdown",
   "id": "7ef0090f-ec89-4ed2-b7d9-e4653e89ec61",
   "metadata": {},
   "source": [
    "### Part 1: Webscraping news articles. Data pipeline [here](scraping_scripts.ipynb)"
   ]
  },
  {
   "cell_type": "markdown",
   "id": "2b262409-1437-4bff-92fa-d406d56d21a6",
   "metadata": {},
   "source": [
    "#### Install packages"
   ]
  },
  {
   "cell_type": "code",
   "execution_count": 5,
   "id": "d55adc78-6f57-41eb-a561-a5e0d94e703d",
   "metadata": {},
   "outputs": [],
   "source": [
    "import html5lib\n",
    "import bs4\n",
    "import requests\n",
    "from bs4 import BeautifulSoup\n",
    "import urllib\n",
    "import urllib.request\n",
    "import time\n",
    "import pandas as pd\n",
    "import numpy as np\n",
    "import seaborn as sns\n",
    "import matplotlib.pyplot as plt\n",
    "import nltk\n",
    "import json"
   ]
  },
  {
   "cell_type": "markdown",
   "id": "ce5c317b",
   "metadata": {},
   "source": [
    "#### Creating list of Vox articles to parse"
   ]
  },
  {
   "cell_type": "code",
   "execution_count": 18,
   "id": "715a342d",
   "metadata": {},
   "outputs": [
    {
     "data": {
      "text/plain": [
       "25"
      ]
     },
     "execution_count": 18,
     "metadata": {},
     "output_type": "execute_result"
    }
   ],
   "source": [
    "vox_URLs = ['https://www.vox.com/the-logoff-newsletter-trump/407468/trump-tariff-market-crash-economy-recession', \n",
    "            'https://www.vox.com/politics/407296/stagflation-trump-tariffs-recession-inflation-risk-odds', \n",
    "            'https://www.vox.com/donald-trump/407337/trump-tariffs-risk-split-lose-gop-winning-coalition-majority-disapprove-opinion-latino-black-gen-z', \n",
    "            'https://www.vox.com/culture/407365/nintendo-switch-2-delay-preorder-tariff-trump-how-to', \n",
    "            'https://www.vox.com/the-logoff-newsletter-trump/407344/laura-loomer-trump-nsa-director', \n",
    "            'https://www.vox.com/politics/407222/trump-tariff-loomer-kennedy', \n",
    "            'https://www.vox.com/scotus/407196/supreme-court-trump-tariffs-emily-ley-paper', \n",
    "            'https://www.vox.com/today-explained-podcast/407112/trump-tariffs-china-vietnam-south-korea', \n",
    "            'https://www.vox.com/politics/407111/trump-tariff-formula-calculation-russia-economy-dow-sp', \n",
    "            'https://www.vox.com/politics/407053/trump-tariff-expensive-democracy-authoritarianism-breakdown', \n",
    "            'https://www.vox.com/scotus/407051/supreme-court-trump-tariffs-major-questions', \n",
    "            'https://www.vox.com/politics/407025/trump-tariffs-reciprocal-trade-war-why-explanation-nostalgia', \n",
    "            'https://www.vox.com/politics/406934/wisconsin-electorate-liberal-democratic-turnout-election-trump-voter-republican', \n",
    "            'https://www.vox.com/the-logoff-newsletter-trump/406939/trump-tariffs-logoff', \n",
    "            'https://www.vox.com/politics/406467/trump-tariffs-prices-liberation-day-economy', \n",
    "            'https://www.vox.com/scotus/406879/supreme-court-planned-parenthood-south-carolina-medina-medicaid-abortion', \n",
    "            'https://www.vox.com/immigration/406697/trump-immigration-deportation-poll-public-opinion-economy-approval-border', \n",
    "            'https://www.vox.com/on-the-right-newsletter/406672/trump-student-deportations-rumeysa-ozturk-campus-free-speech', \n",
    "            'https://www.vox.com/politics/406742/wisconsin-supreme-court-election-results-susan-crawford-brad-schimel-elon-musk-democrats', \n",
    "            'https://www.vox.com/scotus/406719/trump-attack-immigrants-supreme-court', \n",
    "            'https://www.vox.com/politics/406690/trump-el-salvador-deportation-prison-court', \n",
    "            'https://www.vox.com/policy/406637/hasan-piker-gop-trump-gen-z-democrats-woke', \n",
    "            'https://www.vox.com/politics/406606/cory-booker-marathon-speech-filibuster-senate-floor-briefly-explained-protest', \n",
    "            'https://www.vox.com/politics/405748/democrats-leader-michelle-obama-savior-sanders-aoc-walz-biden-harris',\n",
    "            'https://www.vox.com/the-logoff-newsletter-trump/406531/trump-third-presidential-term-constitution-briefly-explained']\n",
    "len(vox_URLs)"
   ]
  },
  {
   "cell_type": "markdown",
   "id": "31371a54",
   "metadata": {},
   "source": [
    "#### Creating list of Fox articles to parse"
   ]
  },
  {
   "cell_type": "code",
   "execution_count": 19,
   "id": "bd8a7965",
   "metadata": {},
   "outputs": [
    {
     "data": {
      "text/plain": [
       "25"
      ]
     },
     "execution_count": 19,
     "metadata": {},
     "output_type": "execute_result"
    }
   ],
   "source": [
    "fox_URLs = ['https://www.foxnews.com/politics/musk-spars-white-house-advisor-peter-navarro-dumber-than-sack-bricks', \n",
    "            'https://www.foxnews.com/politics/gabbard-establishes-new-intelligence-community-task-force-restore-transparency', \n",
    "            'https://www.foxnews.com/politics/trump-backed-bill-rein-federal-judges-gets-house-wide-vote', \n",
    "            'https://www.foxnews.com/media/pam-bondi-warns-migrant-criminals-coming-after-you-supreme-court-lifts-stay-deportations', \n",
    "            'https://www.foxnews.com/politics/trump-hauls-millions-house-gop-2026-war-chest-dems-taunt-running-scared', \n",
    "            'https://www.foxnews.com/politics/white-house-us-lead-ai-china-catching-up', \n",
    "            'https://www.foxnews.com/politics/huckabee-nomination-clears-senate-hurdle-us-ambassador-israel', \n",
    "            'https://www.foxnews.com/politics/elbridge-colby-confirmed-top-pentagon-policy-post-after-hesitation-from-gop-hawks', \n",
    "            'https://www.foxnews.com/sports/maine-lawmakers-send-letter-trump-condemning-gov-janet-mills-over-trans-athlete-girls-sports-policies', \n",
    "            'https://www.foxnews.com/politics/house-republicans-worry-even-trump-cant-save-them-tax-cuts-budget-bill-hang-balance', \n",
    "            'https://www.foxnews.com/politics/trump-hegseth-reveal-whopping-figure-want-next-pentagon-budget', \n",
    "            'https://www.foxnews.com/politics/white-house-us-lead-ai-china-catching-up', \n",
    "            'https://www.foxnews.com/world/us-panama-taking-back-canal-from-chinas-influence-says-hegseth', \n",
    "            'https://www.foxnews.com/media/trump-more-like-soaring-eagle-than-lame-duck-record-number-executive-orders-polling-expert-says', \n",
    "            'https://www.foxnews.com/politics/huckabee-nomination-clears-senate-hurdle-us-ambassador-israel', \n",
    "            'https://www.foxnews.com/media/james-carville-warns-country-high-alert-asked-trump-might-try-rig-midterms', \n",
    "            'https://www.foxnews.com/politics/us-federal-agencies-unleash-coal-energy-after-biden-stifled-it-mine-baby-mine', \n",
    "            'https://www.foxnews.com/politics/trumps-crypto-chief-golden-age-digital-assets', \n",
    "            'https://www.foxnews.com/politics/dem-accuses-trump-admin-fire-sale-approach-gop-aims-lower-federal-govs-real-estate-portfolio', \n",
    "            'https://www.foxnews.com/politics/elbridge-colby-confirmed-top-pentagon-policy-post-after-hesitation-from-gop-hawks', \n",
    "            'https://www.foxnews.com/politics/many-failures-whistleblower-exposes-how-biden-era-official-soft-china-prioritized-dei', \n",
    "            'https://www.foxnews.com/politics/house-republicans-worry-even-trump-cant-save-them-tax-cuts-budget-bill-hang-balance', \n",
    "            'https://www.foxnews.com/politics/supreme-court-trump-probationary-federal-workers-ruling', \n",
    "            'https://www.foxnews.com/politics/scoop-treasury-secretary-bessent-huddle-key-republican-caucus-trump-enacts-tariff-plan', \n",
    "            'https://www.foxnews.com/media/usha-vance-reveals-how-switch-flipped-after-husband-joined-trump-ticket-says-maga-has-totally-welcomed-her']\n",
    "len(fox_URLs)"
   ]
  },
  {
   "cell_type": "markdown",
   "id": "68e17ee9",
   "metadata": {},
   "source": [
    "#### Testing scraping on Pitt Linguistics webpages"
   ]
  },
  {
   "cell_type": "code",
   "execution_count": null,
   "id": "64a5fa9d",
   "metadata": {},
   "outputs": [],
   "source": [
    "import html5lib\n",
    "import bs4\n",
    "import requests\n",
    "from bs4 import BeautifulSoup\n",
    "import time\n",
    "\n",
    "headers = {'User-Agent': \"Mozilla/5.0 (Macintosh; Intel Mac OS X 10_11_2) AppleWebKit/601.3.9 (KHTML, like Gecko) Version/9.0.2 Safari/601.3.9\"}\n",
    "pitt_URLs = ['https://www.linguistics.pitt.edu/graduate/ma-program', 'https://www.linguistics.pitt.edu/research', 'https://www.linguistics.pitt.edu/esl-tesol', 'https://www.linguistics.pitt.edu/languages']\n",
    "\n",
    "pitt_data = []\n",
    "for url in pitt_URLs:\n",
    "    pitt_r = requests.get(url=url, headers=headers)\n",
    "    #print(pitt_r.content[:1000])\n",
    "    pitt_soup = BeautifulSoup(pitt_r.content, 'html5lib')\n",
    "    #print(pitt_soup.prettify())\n",
    "    table = pitt_soup.find('header')\n",
    "    for row in table.find('div'):\n",
    "        pitt_article = {}\n",
    "        pitt_article['headline'] = table.find('li')\n",
    "        pitt_data.append(pitt_article)\n",
    "    time.sleep(10)\n",
    "print(pitt_data[:1000])"
   ]
  },
  {
   "cell_type": "markdown",
   "id": "24c17faa",
   "metadata": {},
   "source": [
    "### Part 2: Linguistic analysis of data"
   ]
  },
  {
   "cell_type": "markdown",
   "id": "6a95adb6",
   "metadata": {},
   "source": [
    "#### Starting with the Fox dataset"
   ]
  },
  {
   "cell_type": "code",
   "execution_count": 68,
   "id": "b3231ef4",
   "metadata": {},
   "outputs": [],
   "source": [
    "#reading in dataframe\n",
    "fox_df = pd.read_csv('fox.csv')"
   ]
  },
  {
   "cell_type": "code",
   "execution_count": 93,
   "id": "96d9654a",
   "metadata": {},
   "outputs": [],
   "source": [
    "#'tokens' column with tokenized text\n",
    "fox_df[\"tokens\"] = fox_df.apply(lambda row: [word.lower() for word in nltk.word_tokenize(row[\"text\"])], axis=1)\n",
    "\n",
    "#'length' column with article length in words\n",
    "fox_df[\"length\"] = fox_df.apply(lambda row: len(row[\"tokens\"]), axis=1)\n",
    "\n",
    "#'word_length' column with word lengths\n",
    "fox_df[\"word_length\"] = fox_df.apply(lambda row: [len(word) for word in row[\"tokens\"]], axis=1)\n",
    "\n",
    "#'avg_word_length' column with average word length\n",
    "fox_df[\"avg_word_length\"] = fox_df.apply(lambda row: np.mean(row[\"word_length\"]), axis=1)\n",
    "\n",
    "#frequency distribution of words in Fox articles\n",
    "fox_df[\"freqdist\"] = fox_df.apply(lambda row: nltk.FreqDist(row[\"tokens\"]), axis=1)\n"
   ]
  },
  {
   "cell_type": "code",
   "execution_count": 94,
   "id": "a0218095",
   "metadata": {},
   "outputs": [
    {
     "data": {
      "text/html": [
       "<div>\n",
       "<style scoped>\n",
       "    .dataframe tbody tr th:only-of-type {\n",
       "        vertical-align: middle;\n",
       "    }\n",
       "\n",
       "    .dataframe tbody tr th {\n",
       "        vertical-align: top;\n",
       "    }\n",
       "\n",
       "    .dataframe thead th {\n",
       "        text-align: right;\n",
       "    }\n",
       "</style>\n",
       "<table border=\"1\" class=\"dataframe\">\n",
       "  <thead>\n",
       "    <tr style=\"text-align: right;\">\n",
       "      <th></th>\n",
       "      <th>headline</th>\n",
       "      <th>text</th>\n",
       "      <th>Source</th>\n",
       "      <th>tokens</th>\n",
       "      <th>length</th>\n",
       "      <th>word_length</th>\n",
       "      <th>avg_word_length</th>\n",
       "      <th>freqdist</th>\n",
       "    </tr>\n",
       "  </thead>\n",
       "  <tbody>\n",
       "    <tr>\n",
       "      <th>0</th>\n",
       "      <td>Musk spars with White House trade advisor Pete...</td>\n",
       "      <td>SpaceX and Tesla CEO Elon Musk sparred on soci...</td>\n",
       "      <td>Fox News</td>\n",
       "      <td>[spacex, and, tesla, ceo, elon, musk, sparred,...</td>\n",
       "      <td>606</td>\n",
       "      <td>[6, 3, 5, 3, 4, 4, 7, 2, 6, 5, 7, 4, 5, 5, 6, ...</td>\n",
       "      <td>4.217822</td>\n",
       "      <td>{'spacex': 1, 'and': 9, 'tesla': 3, 'ceo': 1, ...</td>\n",
       "    </tr>\n",
       "    <tr>\n",
       "      <th>1</th>\n",
       "      <td>Gabbard establishes new intelligence community...</td>\n",
       "      <td>EXCLUSIVE: Director of National Intelligence T...</td>\n",
       "      <td>Fox News</td>\n",
       "      <td>[exclusive, :, director, of, national, intelli...</td>\n",
       "      <td>723</td>\n",
       "      <td>[9, 1, 8, 2, 8, 12, 5, 7, 11, 1, 3, 4, 5, 7, 4...</td>\n",
       "      <td>5.199170</td>\n",
       "      <td>{'exclusive': 1, ':': 2, 'director': 5, 'of': ...</td>\n",
       "    </tr>\n",
       "    <tr>\n",
       "      <th>2</th>\n",
       "      <td>Trump-backed bill to rein in federal judges ge...</td>\n",
       "      <td>The House of Representatives is expected to vo...</td>\n",
       "      <td>Fox News</td>\n",
       "      <td>[the, house, of, representatives, is, expected...</td>\n",
       "      <td>534</td>\n",
       "      <td>[3, 5, 2, 15, 2, 8, 2, 4, 7, 2, 1, 4, 2, 5, 7,...</td>\n",
       "      <td>4.453184</td>\n",
       "      <td>{'the': 23, 'house': 8, 'of': 7, 'representati...</td>\n",
       "    </tr>\n",
       "    <tr>\n",
       "      <th>3</th>\n",
       "      <td>Pam Bondi warns migrant criminals 'we're comin...</td>\n",
       "      <td>Attorney General Pam Bondi warned illegal immi...</td>\n",
       "      <td>Fox News</td>\n",
       "      <td>[attorney, general, pam, bondi, warned, illega...</td>\n",
       "      <td>451</td>\n",
       "      <td>[8, 7, 3, 5, 6, 7, 9, 9, 2, 5, 7, 5, 4, 5, 3, ...</td>\n",
       "      <td>4.352550</td>\n",
       "      <td>{'attorney': 1, 'general': 1, 'pam': 1, 'bondi...</td>\n",
       "    </tr>\n",
       "    <tr>\n",
       "      <th>4</th>\n",
       "      <td>Trump hauls in millions for House GOP 2026 war...</td>\n",
       "      <td>FIRST ON FOX — As congressional Republicans ge...</td>\n",
       "      <td>Fox News</td>\n",
       "      <td>[first, on, fox, —, as, congressional, republi...</td>\n",
       "      <td>812</td>\n",
       "      <td>[5, 2, 3, 1, 2, 13, 11, 4, 2, 3, 1, 8, 6, 2, 3...</td>\n",
       "      <td>4.433498</td>\n",
       "      <td>{'first': 1, 'on': 6, 'fox': 4, '—': 1, 'as': ...</td>\n",
       "    </tr>\n",
       "  </tbody>\n",
       "</table>\n",
       "</div>"
      ],
      "text/plain": [
       "                                            headline  \\\n",
       "0  Musk spars with White House trade advisor Pete...   \n",
       "1  Gabbard establishes new intelligence community...   \n",
       "2  Trump-backed bill to rein in federal judges ge...   \n",
       "3  Pam Bondi warns migrant criminals 'we're comin...   \n",
       "4  Trump hauls in millions for House GOP 2026 war...   \n",
       "\n",
       "                                                text    Source  \\\n",
       "0  SpaceX and Tesla CEO Elon Musk sparred on soci...  Fox News   \n",
       "1  EXCLUSIVE: Director of National Intelligence T...  Fox News   \n",
       "2  The House of Representatives is expected to vo...  Fox News   \n",
       "3  Attorney General Pam Bondi warned illegal immi...  Fox News   \n",
       "4  FIRST ON FOX — As congressional Republicans ge...  Fox News   \n",
       "\n",
       "                                              tokens  length  \\\n",
       "0  [spacex, and, tesla, ceo, elon, musk, sparred,...     606   \n",
       "1  [exclusive, :, director, of, national, intelli...     723   \n",
       "2  [the, house, of, representatives, is, expected...     534   \n",
       "3  [attorney, general, pam, bondi, warned, illega...     451   \n",
       "4  [first, on, fox, —, as, congressional, republi...     812   \n",
       "\n",
       "                                         word_length  avg_word_length  \\\n",
       "0  [6, 3, 5, 3, 4, 4, 7, 2, 6, 5, 7, 4, 5, 5, 6, ...         4.217822   \n",
       "1  [9, 1, 8, 2, 8, 12, 5, 7, 11, 1, 3, 4, 5, 7, 4...         5.199170   \n",
       "2  [3, 5, 2, 15, 2, 8, 2, 4, 7, 2, 1, 4, 2, 5, 7,...         4.453184   \n",
       "3  [8, 7, 3, 5, 6, 7, 9, 9, 2, 5, 7, 5, 4, 5, 3, ...         4.352550   \n",
       "4  [5, 2, 3, 1, 2, 13, 11, 4, 2, 3, 1, 8, 6, 2, 3...         4.433498   \n",
       "\n",
       "                                            freqdist  \n",
       "0  {'spacex': 1, 'and': 9, 'tesla': 3, 'ceo': 1, ...  \n",
       "1  {'exclusive': 1, ':': 2, 'director': 5, 'of': ...  \n",
       "2  {'the': 23, 'house': 8, 'of': 7, 'representati...  \n",
       "3  {'attorney': 1, 'general': 1, 'pam': 1, 'bondi...  \n",
       "4  {'first': 1, 'on': 6, 'fox': 4, '—': 1, 'as': ...  "
      ]
     },
     "execution_count": 94,
     "metadata": {},
     "output_type": "execute_result"
    }
   ],
   "source": [
    "fox_df.head()"
   ]
  },
  {
   "cell_type": "markdown",
   "id": "35795e68",
   "metadata": {},
   "source": [
    "#### Creating list of all Fox News word tokens for further linguistic analysis"
   ]
  },
  {
   "cell_type": "code",
   "execution_count": 100,
   "id": "62a1f49d",
   "metadata": {},
   "outputs": [
    {
     "data": {
      "text/plain": [
       "20442"
      ]
     },
     "execution_count": 100,
     "metadata": {},
     "output_type": "execute_result"
    }
   ],
   "source": [
    "fox_all_toks = []\n",
    "for i in range(len(fox_df)):\n",
    "    fox_all_toks += fox_df[\"tokens\"][i]\n",
    "len(fox_all_toks)"
   ]
  },
  {
   "cell_type": "markdown",
   "id": "5e336655",
   "metadata": {},
   "source": [
    "#### Now for the Vox dataset"
   ]
  },
  {
   "cell_type": "code",
   "execution_count": 87,
   "id": "d27cb0a2",
   "metadata": {},
   "outputs": [],
   "source": [
    "#reading in dataframe\n",
    "vox_df = pd.read_csv('vox.csv')"
   ]
  },
  {
   "cell_type": "code",
   "execution_count": 88,
   "id": "6ca96597",
   "metadata": {},
   "outputs": [
    {
     "data": {
      "text/html": [
       "<div>\n",
       "<style scoped>\n",
       "    .dataframe tbody tr th:only-of-type {\n",
       "        vertical-align: middle;\n",
       "    }\n",
       "\n",
       "    .dataframe tbody tr th {\n",
       "        vertical-align: top;\n",
       "    }\n",
       "\n",
       "    .dataframe thead th {\n",
       "        text-align: right;\n",
       "    }\n",
       "</style>\n",
       "<table border=\"1\" class=\"dataframe\">\n",
       "  <thead>\n",
       "    <tr style=\"text-align: right;\">\n",
       "      <th></th>\n",
       "      <th>headline</th>\n",
       "      <th>subheading</th>\n",
       "      <th>text</th>\n",
       "      <th>Source</th>\n",
       "    </tr>\n",
       "  </thead>\n",
       "  <tbody>\n",
       "    <tr>\n",
       "      <th>0</th>\n",
       "      <td>Trump’s tariff-driven market crash, briefly ex...</td>\n",
       "      <td>The Dow has lost more than 4,000 points since ...</td>\n",
       "      <td>This story appeared in The Logoff, a daily new...</td>\n",
       "      <td>Vox</td>\n",
       "    </tr>\n",
       "    <tr>\n",
       "      <th>1</th>\n",
       "      <td>America may be headed for this rare type of ec...</td>\n",
       "      <td>Stagflation, explained.</td>\n",
       "      <td>President Donald Trump’s decision to impose la...</td>\n",
       "      <td>Vox</td>\n",
       "    </tr>\n",
       "    <tr>\n",
       "      <th>2</th>\n",
       "      <td>Trump’s tariffs risk destroying his winning co...</td>\n",
       "      <td>Already distrusted on the economy, Trump’s tar...</td>\n",
       "      <td>As markets tank and the prospect of higher pri...</td>\n",
       "      <td>Vox</td>\n",
       "    </tr>\n",
       "    <tr>\n",
       "      <th>3</th>\n",
       "      <td>How the Nintendo Switch 2 delay explains Trump...</td>\n",
       "      <td>Trump threw a blue shell at Nintendo — and the...</td>\n",
       "      <td>It was a big week for the global economy — and...</td>\n",
       "      <td>Vox</td>\n",
       "    </tr>\n",
       "    <tr>\n",
       "      <th>4</th>\n",
       "      <td>A conspiracy theorist convinced Trump to fire ...</td>\n",
       "      <td>Laura Loomer, a 9/11 truther, apparently gets ...</td>\n",
       "      <td>This story appeared in The Logoff, a daily new...</td>\n",
       "      <td>Vox</td>\n",
       "    </tr>\n",
       "  </tbody>\n",
       "</table>\n",
       "</div>"
      ],
      "text/plain": [
       "                                            headline  \\\n",
       "0  Trump’s tariff-driven market crash, briefly ex...   \n",
       "1  America may be headed for this rare type of ec...   \n",
       "2  Trump’s tariffs risk destroying his winning co...   \n",
       "3  How the Nintendo Switch 2 delay explains Trump...   \n",
       "4  A conspiracy theorist convinced Trump to fire ...   \n",
       "\n",
       "                                          subheading  \\\n",
       "0  The Dow has lost more than 4,000 points since ...   \n",
       "1                            Stagflation, explained.   \n",
       "2  Already distrusted on the economy, Trump’s tar...   \n",
       "3  Trump threw a blue shell at Nintendo — and the...   \n",
       "4  Laura Loomer, a 9/11 truther, apparently gets ...   \n",
       "\n",
       "                                                text Source  \n",
       "0  This story appeared in The Logoff, a daily new...    Vox  \n",
       "1  President Donald Trump’s decision to impose la...    Vox  \n",
       "2  As markets tank and the prospect of higher pri...    Vox  \n",
       "3  It was a big week for the global economy — and...    Vox  \n",
       "4  This story appeared in The Logoff, a daily new...    Vox  "
      ]
     },
     "execution_count": 88,
     "metadata": {},
     "output_type": "execute_result"
    }
   ],
   "source": [
    "#flattening 'text' column\n",
    "vox_df[\"text\"] = vox_df[\"text\"].apply(eval).apply(' '.join)\n",
    "vox_df.head()"
   ]
  },
  {
   "cell_type": "code",
   "execution_count": 89,
   "id": "2d9d3194",
   "metadata": {},
   "outputs": [],
   "source": [
    "#exporting flattened text dataframe to csv for later use (if needed)\n",
    "vox_df.to_csv('vox_flat.csv', index=False)"
   ]
  },
  {
   "cell_type": "code",
   "execution_count": 95,
   "id": "3a50beb3",
   "metadata": {},
   "outputs": [],
   "source": [
    "#'tokens' column with tokenized text\n",
    "vox_df[\"tokens\"] = vox_df.apply(lambda row: [word.lower() for word in nltk.word_tokenize(row[\"text\"])], axis=1)\n",
    "\n",
    "#'length' column with article length in words\n",
    "vox_df[\"length\"] = vox_df.apply(lambda row: len(row[\"tokens\"]), axis=1)\n",
    "\n",
    "#'word_length' column with word lengths\n",
    "vox_df[\"word_length\"] = vox_df.apply(lambda row: [len(word) for word in row[\"tokens\"]], axis=1)\n",
    "\n",
    "#'avg_word_length' column with average word length\n",
    "vox_df[\"avg_word_length\"] = vox_df.apply(lambda row: np.mean(row[\"word_length\"]), axis=1)\n",
    "\n",
    "#frequency distribution of words in Fox articles\n",
    "vox_df[\"freqdist\"] = vox_df.apply(lambda row: nltk.FreqDist(row[\"tokens\"]), axis=1)"
   ]
  },
  {
   "cell_type": "code",
   "execution_count": 96,
   "id": "65b2703d",
   "metadata": {},
   "outputs": [
    {
     "data": {
      "text/html": [
       "<div>\n",
       "<style scoped>\n",
       "    .dataframe tbody tr th:only-of-type {\n",
       "        vertical-align: middle;\n",
       "    }\n",
       "\n",
       "    .dataframe tbody tr th {\n",
       "        vertical-align: top;\n",
       "    }\n",
       "\n",
       "    .dataframe thead th {\n",
       "        text-align: right;\n",
       "    }\n",
       "</style>\n",
       "<table border=\"1\" class=\"dataframe\">\n",
       "  <thead>\n",
       "    <tr style=\"text-align: right;\">\n",
       "      <th></th>\n",
       "      <th>headline</th>\n",
       "      <th>subheading</th>\n",
       "      <th>text</th>\n",
       "      <th>Source</th>\n",
       "      <th>tokens</th>\n",
       "      <th>length</th>\n",
       "      <th>word_length</th>\n",
       "      <th>avg_word_length</th>\n",
       "      <th>freqdist</th>\n",
       "    </tr>\n",
       "  </thead>\n",
       "  <tbody>\n",
       "    <tr>\n",
       "      <th>0</th>\n",
       "      <td>Trump’s tariff-driven market crash, briefly ex...</td>\n",
       "      <td>The Dow has lost more than 4,000 points since ...</td>\n",
       "      <td>This story appeared in The Logoff, a daily new...</td>\n",
       "      <td>Vox</td>\n",
       "      <td>[this, story, appeared, in, the, logoff, ,, a,...</td>\n",
       "      <td>489</td>\n",
       "      <td>[4, 5, 8, 2, 3, 6, 1, 1, 5, 10, 4, 5, 3, 4, 8,...</td>\n",
       "      <td>4.206544</td>\n",
       "      <td>{'this': 5, 'story': 1, 'appeared': 1, 'in': 4...</td>\n",
       "    </tr>\n",
       "    <tr>\n",
       "      <th>1</th>\n",
       "      <td>America may be headed for this rare type of ec...</td>\n",
       "      <td>Stagflation, explained.</td>\n",
       "      <td>President Donald Trump’s decision to impose la...</td>\n",
       "      <td>Vox</td>\n",
       "      <td>[president, donald, trump, ’, s, decision, to,...</td>\n",
       "      <td>1681</td>\n",
       "      <td>[9, 6, 5, 1, 1, 8, 2, 6, 5, 7, 2, 3, 7, 7, 3, ...</td>\n",
       "      <td>4.453302</td>\n",
       "      <td>{'president': 2, 'donald': 1, 'trump': 13, '’'...</td>\n",
       "    </tr>\n",
       "    <tr>\n",
       "      <th>2</th>\n",
       "      <td>Trump’s tariffs risk destroying his winning co...</td>\n",
       "      <td>Already distrusted on the economy, Trump’s tar...</td>\n",
       "      <td>As markets tank and the prospect of higher pri...</td>\n",
       "      <td>Vox</td>\n",
       "      <td>[as, markets, tank, and, the, prospect, of, hi...</td>\n",
       "      <td>767</td>\n",
       "      <td>[2, 7, 4, 3, 3, 8, 2, 6, 6, 7, 4, 4, 1, 3, 6, ...</td>\n",
       "      <td>4.432855</td>\n",
       "      <td>{'as': 6, 'markets': 1, 'tank': 1, 'and': 23, ...</td>\n",
       "    </tr>\n",
       "    <tr>\n",
       "      <th>3</th>\n",
       "      <td>How the Nintendo Switch 2 delay explains Trump...</td>\n",
       "      <td>Trump threw a blue shell at Nintendo — and the...</td>\n",
       "      <td>It was a big week for the global economy — and...</td>\n",
       "      <td>Vox</td>\n",
       "      <td>[it, was, a, big, week, for, the, global, econ...</td>\n",
       "      <td>931</td>\n",
       "      <td>[2, 3, 1, 3, 4, 3, 3, 6, 7, 1, 3, 3, 6, 1, 2, ...</td>\n",
       "      <td>4.250269</td>\n",
       "      <td>{'it': 10, 'was': 3, 'a': 21, 'big': 1, 'week'...</td>\n",
       "    </tr>\n",
       "    <tr>\n",
       "      <th>4</th>\n",
       "      <td>A conspiracy theorist convinced Trump to fire ...</td>\n",
       "      <td>Laura Loomer, a 9/11 truther, apparently gets ...</td>\n",
       "      <td>This story appeared in The Logoff, a daily new...</td>\n",
       "      <td>Vox</td>\n",
       "      <td>[this, story, appeared, in, the, logoff, ,, a,...</td>\n",
       "      <td>518</td>\n",
       "      <td>[4, 5, 8, 2, 3, 6, 1, 1, 5, 10, 4, 5, 3, 4, 8,...</td>\n",
       "      <td>4.193050</td>\n",
       "      <td>{'this': 4, 'story': 2, 'appeared': 1, 'in': 6...</td>\n",
       "    </tr>\n",
       "  </tbody>\n",
       "</table>\n",
       "</div>"
      ],
      "text/plain": [
       "                                            headline  \\\n",
       "0  Trump’s tariff-driven market crash, briefly ex...   \n",
       "1  America may be headed for this rare type of ec...   \n",
       "2  Trump’s tariffs risk destroying his winning co...   \n",
       "3  How the Nintendo Switch 2 delay explains Trump...   \n",
       "4  A conspiracy theorist convinced Trump to fire ...   \n",
       "\n",
       "                                          subheading  \\\n",
       "0  The Dow has lost more than 4,000 points since ...   \n",
       "1                            Stagflation, explained.   \n",
       "2  Already distrusted on the economy, Trump’s tar...   \n",
       "3  Trump threw a blue shell at Nintendo — and the...   \n",
       "4  Laura Loomer, a 9/11 truther, apparently gets ...   \n",
       "\n",
       "                                                text Source  \\\n",
       "0  This story appeared in The Logoff, a daily new...    Vox   \n",
       "1  President Donald Trump’s decision to impose la...    Vox   \n",
       "2  As markets tank and the prospect of higher pri...    Vox   \n",
       "3  It was a big week for the global economy — and...    Vox   \n",
       "4  This story appeared in The Logoff, a daily new...    Vox   \n",
       "\n",
       "                                              tokens  length  \\\n",
       "0  [this, story, appeared, in, the, logoff, ,, a,...     489   \n",
       "1  [president, donald, trump, ’, s, decision, to,...    1681   \n",
       "2  [as, markets, tank, and, the, prospect, of, hi...     767   \n",
       "3  [it, was, a, big, week, for, the, global, econ...     931   \n",
       "4  [this, story, appeared, in, the, logoff, ,, a,...     518   \n",
       "\n",
       "                                         word_length  avg_word_length  \\\n",
       "0  [4, 5, 8, 2, 3, 6, 1, 1, 5, 10, 4, 5, 3, 4, 8,...         4.206544   \n",
       "1  [9, 6, 5, 1, 1, 8, 2, 6, 5, 7, 2, 3, 7, 7, 3, ...         4.453302   \n",
       "2  [2, 7, 4, 3, 3, 8, 2, 6, 6, 7, 4, 4, 1, 3, 6, ...         4.432855   \n",
       "3  [2, 3, 1, 3, 4, 3, 3, 6, 7, 1, 3, 3, 6, 1, 2, ...         4.250269   \n",
       "4  [4, 5, 8, 2, 3, 6, 1, 1, 5, 10, 4, 5, 3, 4, 8,...         4.193050   \n",
       "\n",
       "                                            freqdist  \n",
       "0  {'this': 5, 'story': 1, 'appeared': 1, 'in': 4...  \n",
       "1  {'president': 2, 'donald': 1, 'trump': 13, '’'...  \n",
       "2  {'as': 6, 'markets': 1, 'tank': 1, 'and': 23, ...  \n",
       "3  {'it': 10, 'was': 3, 'a': 21, 'big': 1, 'week'...  \n",
       "4  {'this': 4, 'story': 2, 'appeared': 1, 'in': 6...  "
      ]
     },
     "execution_count": 96,
     "metadata": {},
     "output_type": "execute_result"
    }
   ],
   "source": [
    "vox_df.head()"
   ]
  },
  {
   "cell_type": "markdown",
   "id": "dc236a83",
   "metadata": {},
   "source": [
    "#### Creating list of all Vox word tokens for further linguistic analysis"
   ]
  },
  {
   "cell_type": "code",
   "execution_count": 101,
   "id": "1930b054",
   "metadata": {},
   "outputs": [
    {
     "data": {
      "text/plain": [
       "31689"
      ]
     },
     "execution_count": 101,
     "metadata": {},
     "output_type": "execute_result"
    }
   ],
   "source": [
    "vox_all_toks = []\n",
    "for i in range(len(vox_df)):\n",
    "    vox_all_toks += vox_df[\"tokens\"][i]\n",
    "len(vox_all_toks)"
   ]
  },
  {
   "cell_type": "markdown",
   "id": "77e826ab",
   "metadata": {},
   "source": [
    "### Part 3: Bigram Analysis"
   ]
  },
  {
   "cell_type": "markdown",
   "id": "24f07595",
   "metadata": {},
   "source": [
    "#### First, re-introducing tokenized word lists for all Fox News and all Vox articles"
   ]
  },
  {
   "cell_type": "code",
   "execution_count": 102,
   "id": "fc0d24a0",
   "metadata": {},
   "outputs": [
    {
     "data": {
      "text/plain": [
       "(20442, 31689)"
      ]
     },
     "execution_count": 102,
     "metadata": {},
     "output_type": "execute_result"
    }
   ],
   "source": [
    "len(fox_all_toks), len(vox_all_toks)"
   ]
  },
  {
   "cell_type": "markdown",
   "id": "a11d32f4",
   "metadata": {},
   "source": [
    "#### Creating frequency distributions for each word list"
   ]
  },
  {
   "cell_type": "code",
   "execution_count": 104,
   "id": "a56fbc48",
   "metadata": {},
   "outputs": [],
   "source": [
    "#Fox News frequency distribution\n",
    "fox_freq = nltk.FreqDist(fox_all_toks)\n",
    "#Vox frequency distribution\n",
    "vox_freq = nltk.FreqDist(vox_all_toks)"
   ]
  },
  {
   "cell_type": "markdown",
   "id": "190bcb3a",
   "metadata": {},
   "source": [
    "#### Looking at the 100 most common words in each word list"
   ]
  },
  {
   "cell_type": "code",
   "execution_count": 105,
   "id": "570461d4",
   "metadata": {},
   "outputs": [
    {
     "name": "stdout",
     "output_type": "stream",
     "text": [
      "[('the', 1076), (',', 920), ('to', 645), ('.', 512), ('and', 400), ('``', 389), ('of', 379), ('a', 304), ('in', 300), (\"''\", 280), ('that', 266), (';', 215), ('&', 208), ('nbsp', 207), ('on', 200), ('trump', 168), ('for', 165), ('is', 162), (\"'s\", 149), ('’', 140), ('said', 132), ('it', 132), ('he', 131), ('we', 114), ('with', 106), ('s', 98), ('house', 94), ('fox', 87), ('as', 85), ('this', 85), ('be', 84), ('have', 81), ('are', 80), ('news', 80), ('at', 77), ('i', 76), ('has', 75), ('was', 74), ('from', 73), ('not', 72), ('president', 71), ('administration', 67), ('an', 60), ('by', 59), ('will', 57), ('they', 56), ('u.s.', 55), ('his', 54), ('digital', 52), ('senate', 52), ('which', 49), ('american', 49), ('so', 49), ('would', 49), ('who', 44), ('get', 44), ('kratsios', 44), ('energy', 44), ('coal', 42), ('what', 41), ('federal', 41), ('their', 39), ('one', 39), ('our', 38), ('also', 38), ('here', 37), ('department', 37), ('more', 37), ('ai', 37), ('like', 37), (':', 35), ('people', 35), ('there', 35), ('you', 35), ('$', 35), ('but', 34), (\"'\", 34), ('technology', 34), ('its', 33), ('–', 33), ('told', 32), ('about', 31), ('could', 31), ('bill', 31), ('white', 30), ('after', 30), ('government', 30), ('when', 29), ('‘', 29), ('do', 29), ('click', 28), ('these', 28), ('intelligence', 28), ('were', 28), ('republicans', 28), ('budget', 27), ('if', 27), ('going', 27), ('think', 27), ('china', 27)] [(',', 1481), ('the', 1419), ('.', 1154), ('to', 801), ('of', 678), ('’', 677), ('a', 639), ('and', 626), ('in', 536), ('that', 520), ('s', 495), ('trump', 313), ('is', 303), ('it', 257), ('for', 256), ('on', 251), ('this', 203), ('tariffs', 201), ('are', 176), ('—', 176), ('“', 173), ('”', 171), ('as', 170), ('they', 162), ('be', 149), ('not', 140), ('with', 131), ('or', 130), ('have', 126), ('but', 125), ('more', 123), ('has', 118), ('by', 111), ('from', 107), ('us', 107), ('at', 104), ('his', 100), ('was', 100), ('i', 98), ('what', 97), ('will', 94), ('you', 91), ('an', 91), ('he', 89), ('like', 88), ('about', 87), ('their', 85), ('percent', 83), ('t', 82), ('can', 79), ('if', 75), ('than', 72), ('president', 71), ('all', 71), ('who', 71), (':', 66), ('court', 66), ('other', 65), ('there', 65), ('so', 65), ('one', 65), ('these', 63), ('?', 62), ('even', 62), ('would', 61), ('economic', 60), ('trade', 60), ('which', 58), ('do', 57), ('goods', 56), ('also', 55), ('were', 54), ('been', 54), ('out', 53), ('some', 53), ('any', 52), ('its', 51), ('manufacturing', 51), ('when', 49), ('american', 49), ('administration', 47), (')', 47), ('just', 47), ('right', 47), ('(', 46), ('america', 46), ('over', 43), ('whether', 43), ('democratic', 43), ('power', 42), ('states', 42), ('people', 42), ('political', 41), ('economy', 40), ('could', 40), ('law', 40), ('only', 40), ('voters', 40), ('them', 40), ('we', 40)]\n"
     ]
    }
   ],
   "source": [
    "#Fox News top 100 words\n",
    "fox_top100 = fox_freq.most_common(100)\n",
    "#Vox top 100 words\n",
    "vox_top100 = vox_freq.most_common(100)\n",
    "\n",
    "print(fox_top100, vox_top100)"
   ]
  },
  {
   "cell_type": "markdown",
   "id": "51ab809f",
   "metadata": {},
   "source": [
    "### Part 4: Subjective Intensifiers"
   ]
  },
  {
   "cell_type": "markdown",
   "id": "540d3f58",
   "metadata": {},
   "source": []
  }
 ],
 "metadata": {
  "kernelspec": {
   "display_name": "Python [conda env:base] *",
   "language": "python",
   "name": "conda-base-py"
  },
  "language_info": {
   "codemirror_mode": {
    "name": "ipython",
    "version": 3
   },
   "file_extension": ".py",
   "mimetype": "text/x-python",
   "name": "python",
   "nbconvert_exporter": "python",
   "pygments_lexer": "ipython3",
   "version": "3.12.2"
  }
 },
 "nbformat": 4,
 "nbformat_minor": 5
}
