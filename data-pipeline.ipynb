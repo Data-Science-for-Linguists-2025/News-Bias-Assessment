{
 "cells": [
  {
   "cell_type": "markdown",
   "id": "77712d7d-501a-4b2b-8338-a63bcc41eeb8",
   "metadata": {},
   "source": [
    "# Data Pipeline"
   ]
  },
  {
   "cell_type": "markdown",
   "id": "9f97d329-8efa-4c31-900e-10d63a1d7990",
   "metadata": {},
   "source": [
    "#### Working from existing pipeline from previous progress reports"
   ]
  },
  {
   "cell_type": "markdown",
   "id": "7ef0090f-ec89-4ed2-b7d9-e4653e89ec61",
   "metadata": {},
   "source": [
    "## Part 1: Webscraping news articles"
   ]
  },
  {
   "cell_type": "markdown",
   "id": "2b262409-1437-4bff-92fa-d406d56d21a6",
   "metadata": {},
   "source": [
    "### Install packages"
   ]
  },
  {
   "cell_type": "code",
   "execution_count": 1,
   "id": "d55adc78-6f57-41eb-a561-a5e0d94e703d",
   "metadata": {},
   "outputs": [],
   "source": [
    "import html5lib\n",
    "import bs4\n",
    "import requests\n",
    "from bs4 import BeautifulSoup\n",
    "import urllib\n",
    "import urllib.request"
   ]
  },
  {
   "cell_type": "markdown",
   "id": "ce5c317b",
   "metadata": {},
   "source": [
    "### Creating list of Vox articles to parse"
   ]
  },
  {
   "cell_type": "code",
   "execution_count": null,
   "id": "715a342d",
   "metadata": {},
   "outputs": [],
   "source": []
  },
  {
   "cell_type": "markdown",
   "id": "31371a54",
   "metadata": {},
   "source": [
    "### Creating list of Fox articles to parse"
   ]
  },
  {
   "cell_type": "code",
   "execution_count": null,
   "id": "bd8a7965",
   "metadata": {},
   "outputs": [],
   "source": []
  },
  {
   "cell_type": "markdown",
   "id": "a5db5642-c716-4dd4-8389-29c40d69ae8b",
   "metadata": {},
   "source": [
    "### Fox Parser"
   ]
  },
  {
   "cell_type": "code",
   "execution_count": 2,
   "id": "1ce6bd78",
   "metadata": {},
   "outputs": [
    {
     "name": "stdout",
     "output_type": "stream",
     "text": [
      "b'<!doctype html>\\n<html data-n-head-ssr lang=\"en\" data-n-head=\"%7B%22lang%22:%7B%22ssr%22:%22en%22%7D%7D\">\\n  <head>\\n    <title>GOP leaders dismiss elections anxiety over Stefanik seat, Florida races | Fox News</title><meta data-n-head=\"ssr\" http-equiv=\"X-UA-Compatible\" content=\"IE=edge,chrome=1\"><meta data-n-head=\"ssr\" data-hid=\"content-type\" http-equiv=\"content-type\" content=\"text/html; charset=UTF-8\"><meta data-n-head=\"ssr\" data-hid=\"x-dns-prefetch-control\" http-equiv=\"x-dns-prefetch-control\" content=\"on\"><meta data-n-head=\"ssr\" charset=\"UTF-8\"><meta data-n-head=\"ssr\" data-hid=\"viewport\" name=\"viewport\" content=\"width=device-width, minimum-scale=1.0, initial-scale=1.0\"><meta data-n-head=\"ssr\" name=\"msapplication-square70x70logo\" content=\"//static.foxnews.com/static/orion/styles/img/fox-news/favicons/mstile-70x70.png\"><meta data-n-head=\"ssr\" name=\"msapplication-square150x150logo\" content=\"//static.foxnews.com/static/orion/styles/img/fox-news/favicons/mstile-150x150.png\"><meta data-n-hea'\n"
     ]
    }
   ],
   "source": [
    "import html5lib\n",
    "import bs4\n",
    "import requests\n",
    "\n",
    "headers = {'User-Agent': \"Mozilla/5.0 (Macintosh; Intel Mac OS X 10_11_2) AppleWebKit/601.3.9 (KHTML, like Gecko) Version/9.0.2 Safari/601.3.9\"}\n",
    "fox_URL = \"https://www.foxnews.com/politics/house-republicans-brush-off-stefaniks-trump-admin-upheaval-amid-high-stakes-florida-race\"\n",
    "fox_r = requests.get(url=fox_URL, headers=headers)\n",
    "print(fox_r.content[:1000])"
   ]
  },
  {
   "cell_type": "code",
   "execution_count": 3,
   "id": "8b8baa43",
   "metadata": {},
   "outputs": [],
   "source": [
    "from bs4 import BeautifulSoup\n",
    "\n",
    "fox_soup = BeautifulSoup(fox_r.content, 'html5lib')\n",
    "#print(soup.prettify())"
   ]
  },
  {
   "cell_type": "code",
   "execution_count": 4,
   "id": "42090608",
   "metadata": {},
   "outputs": [
    {
     "name": "stdout",
     "output_type": "stream",
     "text": [
      "[{'headline': \"House Republicans brush off Stefanik's Trump admin upheaval amid high-stakes Florida race\", 'text': 'House Republicans are brushing off reports of anxiety over three historically red congressional seats, as the special election for two of them looms just a day away. \"Jimmy Patronis and Randy Fine are exactly who House Republicans need to join our team,\" House Majority Whip Tom Emmer, R-Minn., told Fox News Digital last week, referring to candidates running in Florida\\'s special election Tuesday. Patronis is running for Florida\\'s 1st Congressional District, which was vacated by former Rep. Matt Gaetz, R-Fla., and Fine is running for Florida 6th District, previously held by former Rep. Mike Waltz, R-Fla., who now serves as U.S. national security advisor. Republicans have conceded they have been far outraised in those districts, and despite their likely victory, Democrats\\' over-performance has reportedly raised concerns about the GOP\\'s fate in other areas of the country. ELISE STEFANIK DETAILS ‘TEAM PLAYER’ DECISION TO REMAIN IN CONGRESS AFTER TRUMP REQUEST TO PULL UN NOMINATION  It comes after suggestions that GOP discord in a Republican-favored district in upstate New York made some people nervous about Rep. Elise Stefanik, R-N.Y., ascending to President Donald Trump\\'s nomination as ambassador to the United Nations. Stefanik withdrew her nomination on Friday in a decision that blindsided even lower levels of House GOP leadership, sources told Fox News Digital. Democrats immediately seized on the news as evidence that Republicans were worried about losing her seat in New York\\'s 21st District – something Republicans flatly denied, while blaming the state\\'s progressive governor for signaling she would slow-walk the special election to replace Stefanik. \"It was a combination of the New York corruption that we\\'re seeing under Kathy Hochul, special elections and the House margin,\" Stefanik said on \"Hannity\" Friday. \"I\\'ve been in the House. It\\'s tough to count these votes every day. And we are going to continue to defy the political prognosticators and deliver, deliver victory on behalf of President Trump and, importantly, the voters across this country.\" TRUMP ASKS STEFANIK TO WITHDRAW FROM UN AMBASSADOR CONTENTION OVER RAZOR-THIN HOUSE MAJORITY  Meanwhile, National Republican Congressional Committee (NRCC) spokeswoman Maureen O\\'Toole told Fox News Digital, \"We’d win this seat in a special election, and we’ll win it in a general election.\" Trump won the district by 20% in 2024, and Stefanik won every county during that same election cycle. He told reporters at the White House last week, \"We cannot take a chance. We have a slim margin,\" and said he did not know who would be running to replace her. But the president has also been busy at work in Florida, where he held tele-town halls for both Patronis and Fine over the weekend. While the Democrats are the underdogs in both races, they\\'re winning the fundraising battle. Democrat Gay Valimont hauled in over $6 million from Jan. 9 through March 12, compared to just $1.1 million for Patronis in Florida\\'s 1st District.&nbsp; Orlando teacher Josh Weil grabbed plenty of national attention in recent weeks by raising $9.3 million compared to roughly $600,000 for Republican state lawmaker Fine in the Sunshine State\\'s 6th District. The cash discrepancy in the 6th District race spurred GOP-aligned outside groups to make last-minute contributions in support of Fine in the closing days of the campaign, with conservative super PACs launching ads spotlighting Trump\\'s support of Fine.  They have no predictions of success, however, with House Minority Leader Hakeem Jeffries, D-N.Y., telling reporters earlier this month, \"These districts are so Republican, there would ordinarily be no reason to believe that the races will be close, but what I can say, almost guaranteed, is that the Democratic candidate in both of these Florida special elections will significantly overperform.\" CLICK HERE TO GET THE FOX NEWS APP But it has not alarmed the GOP\\'s core fundraising machines. Sources familiar told Fox News Digital that neither the NRCC nor the Congressional Leadership Fund – the top super PAC supporting House Republicans – are putting any resources into either race.  \"I would have preferred if our candidate had raised money at a faster rate and gotten on TV quicker,\" NRCC Chairman Richard Hudson, R-N.C., told reporters earlier this month. But Hudson added that Fine is \"doing what he needs to do. He’s on TV now,\" and emphasized, \"we’re going to win the seat. I’m not concerned at all.\"'}]\n"
     ]
    }
   ],
   "source": [
    "import json\n",
    "fox_articles=[]\n",
    "table = fox_soup.find('head')\n",
    "for row in table.find('script', attrs = {'data-n-head':'ssr', 'type':'application/ld+json'}):\n",
    "    to_string = json.loads(row)\n",
    "    fox_article = {}\n",
    "    fox_article['headline'] = to_string['headline']\n",
    "    fox_article['text'] = to_string['articleBody']\n",
    "    fox_articles.append(fox_article)\n",
    "print(fox_articles)"
   ]
  },
  {
   "cell_type": "markdown",
   "id": "e4944d55",
   "metadata": {},
   "source": [
    "### Vox Parser"
   ]
  },
  {
   "cell_type": "code",
   "execution_count": 5,
   "id": "ec328efa",
   "metadata": {},
   "outputs": [
    {
     "name": "stdout",
     "output_type": "stream",
     "text": [
      "b'<!DOCTYPE html><html lang=\"en-US\"><meta name=\"bingbot\" content=\"nocache\"/><head><meta charSet=\"utf-8\"/><meta name=\"twitter:card\" content=\"summary_large_image\"/><meta name=\"twitter:site\" content=\"@voxdotcom\"/><meta property=\"fb:app_id\" content=\"549923288395304\"/><meta property=\"og:site_name\" content=\"Vox\"/><meta name=\"viewport\" content=\"width=device-width, initial-scale=1, shrink-to-fit=no\"/><meta name=\"apple-mobile-web-app-title\" content=\"Vox\"/><link rel=\"alternate\" type=\"application/rss+xml\" title=\"Vox\" href=\"/rss/index.xml\"/><title>Trump\\xe2\\x80\\x99s most arrogant action threatens his alliance with the Supreme Court | Vox</title><meta name=\"robots\" content=\"index,follow,max-image-preview:large\"/><meta name=\"description\" content=\"\\xef\\xbb\\xbfMaybe targeting John Roberts\\xe2\\x80\\x99s law school classmates is a bad idea?\"/><meta property=\"og:title\" content=\"The cockiest thing Trump has done so far\"/><meta property=\"og:description\" content=\"\\xef\\xbb\\xbfMaybe targeting John Roberts\\xe2\\x80\\x99s law school classmates is a bad idea?\"/'\n"
     ]
    }
   ],
   "source": [
    "\n",
    "vox_URL = \"https://www.vox.com/scotus/406277/supreme-court-donald-trump-law-firms-arrogant\"\n",
    "vox_r = requests.get(url=vox_URL, headers=headers)\n",
    "vox_r.encoding='utf-8-sig'\n",
    "#print(vox_r.encoding)#\n",
    "print(vox_r.content[:1000])\n"
   ]
  },
  {
   "cell_type": "code",
   "execution_count": 6,
   "id": "7f6f72c8",
   "metadata": {},
   "outputs": [
    {
     "name": "stdout",
     "output_type": "stream",
     "text": [
      "<!DOCTYPE html>\n",
      "<html lang=\"en-US\">\n",
      " <head>\n",
      "  <meta content=\"nocache\" name=\"bingbot\"/>\n",
      "  <meta charset=\"utf-8\"/>\n",
      "  <meta content=\"summary_large_image\" name=\"twitter:card\"/>\n",
      "  <meta content=\"@voxdotcom\" name=\"twitter:site\"/>\n",
      "  <meta content=\"549923288395304\" property=\"fb:app_id\"/>\n",
      "  <meta content=\"Vox\" property=\"og:site_name\"/>\n",
      "  <meta content=\"width=device-width, initial-scale=1, shrink-to-fit=no\" name=\"viewport\"/>\n",
      "  <meta content=\"Vox\" name=\"apple-mobile-web-app-title\"/>\n",
      "  <link href=\"/rss/index.xml\" rel=\"alternate\" title=\"Vox\" type=\"application/rss+xml\"/>\n",
      "  <title>\n",
      "   Trump’s most arrogant action threatens his alliance with the Supreme Court | Vox\n",
      "  </title>\n",
      "  <meta content=\"index,follow,max-image-preview:large\" name=\"robots\"/>\n",
      "  <meta content=\"﻿Maybe targeting John Roberts’s law school classmates is a bad idea?\" name=\"description\"/>\n",
      "  <meta content=\"The cockiest thing Trump has done so far\" property=\"og:title\"/>\n",
      "  <meta content=\"﻿Maybe targeting John Roberts’s law school classmates \n"
     ]
    }
   ],
   "source": [
    "vox_soup = BeautifulSoup(vox_r.content, 'html5lib')\n",
    "print(vox_soup.prettify()[:1000])"
   ]
  },
  {
   "cell_type": "code",
   "execution_count": 7,
   "id": "44bfe41b",
   "metadata": {},
   "outputs": [
    {
     "name": "stdout",
     "output_type": "stream",
     "text": [
      "29 [{'headline': 'The cockiest thing Trump has done so far', 'subheading': '\\ufeffMaybe targeting John Roberts’s law school classmates is a bad idea?', 'text': ['All nine of the Supreme Court justices are lawyers. All of them have friends and law school classmates in private practice. All of them sit at the apex of a legal system that depends on lawyers to brief judges on the matters those judges must decide. Many of them were themselves litigators at large law firms, where their livelihood depended on their ability to advocate for their clients without fear of personal reprisals. ', 'So it’s hard to imagine a presidential action that is more likely to antagonize the justices President Donald Trump needs to uphold his agenda, not to mention every other federal judge who isn’t already in the tank for MAGA, than a series of executive orders Trump has recently issued. These actions aim to punish law firms that previously represented Democrats or clients opposed to Trump. ', 'The lawyers targeted by these orders are the justices’ friends, classmates, and colleagues. It would likely be easy for, say, Chief Justice John Roberts or Justice Brett Kavanaugh to empathize with law partners who do the exact same work they once did.', 'The striking thing about all the law firm executive orders is that they barely even attempt to justify Trump’s decision with a legitimate explanation for why these orders are lawful.', 'The order targeting law firm Perkins Coie attacks the firm for “representing failed Presidential candidate Hillary Clinton” in its second sentence. The order targeting WilmerHale accuses it of engaging “in obvious partisan representations to achieve political ends,” as if Democrats do not have the same right to hire lawyers who advocate on their behalf that everyone else does. ', 'The order targeting Jenner & Block justifies that attack because the firm once hired Andrew Weissmann, a prominent television legal commentator who, in the executive order’s words, engaged “in partisan prosecution as part of Robert Mueller’s entirely unjustified investigation” into Trump. Weissmann left Jenner in 2021.', 'The sanctions laid out in these orders, moreover, are extraordinary. They attempt to bar the firms’ attorneys and staff from federal buildings, preventing lawyers representing criminal defendants from engaging in plea bargaining with federal prosecutors – and potentially preventing lawyers who practice before federal agencies from appearing before those agencies at all. They also seek to strip security clearances from the firm’s lawyers, and to strip federal contracts from companies that employ the targeted law firms.', 'It’s hard to think of a precedent for this kind of sweeping attack on a business that did some work for a president’s political opponents. During the second Bush administration, a political appointee in the Defense Department criticized lawyers who represent Guantanamo Bay detainees and suggested that their firms’ clients should look elsewhere for legal representation. But that official apologized shortly thereafter. And he resigned his position three weeks after his widely criticized comments.', 'Bush himself did not attempt anything even resembling the sanctions Trump now seeks to impose on law firms.', 'As Perkins Coie argues in a lawsuit challenging the order against that firm, these sanctions are an existential threat to the firms Trump is targeting. Perkins says that it “has nearly 1,000 active matters that require its lawyers to interact with more than 90 federal agencies,” and it fears it can’t continue many of those representations if it isn’t even allowed into the building to meet with government officials. Similarly, the firm says many of its biggest clients, including its 15 biggest clients, “have or compete for government contracts” that could be cancelled unless those clients fire the firm.', 'Trump, in other words, is claiming the power to exterminate multi-billion dollar businesses, with over a thousand lawyers and as many support staff, to punish them for things as innocuous as representing a Democrat in 2016.', 'It’s hard to count all the ways these orders violate the Constitution. Perkins, in its lawsuit, alleges violations of the First Amendment right to free speech and free association, due process violations because it was given no hearing or notice of the sanctions against it, separation of powers violations because no statute authorizes Trump to sanction law firms in this way, and violations of their clients’ right to choose their own counsel – among other things. ', 'The Trump administration has not yet filed a brief laying out its response to these arguments, but in a hearing, one of its lawyers claimed that the Constitution gives the president inherent authority to “find that there are certain individuals or certain companies that are not trustworthy with the nation’s secrets.”', 'Normally, when a litigant wants the courts to permit something that obviously violates existing law, they try to raise the issue in a case that paints them in a sympathetic light. But Trump has chosen to fight this fight on the most unfavorable ground imaginable:', 'There may be a perverse logic to Trump’s decision to fight on such unfavorable terrain. If he wins the right to punish law firms for representing a prominent Democrat a decade ago, it is unlikely that the Supreme Court will stop him from doing anything at all in the future. Most lawyers will be too scared of retaliation to even bring lawsuits challenging Trump’s actions. Already, one of the firms targeted by Trump, Paul Weiss, appears to have caved to him by agreeing to do $40 million worth of free legal work on causes supported by Trump’s White House. (Like Perkins, Wilmer and Jenner sued to block the orders targeting them.)', 'And, of course, if Trump’s endgame is to openly defy the courts, an obviously unconstitutional executive order targeting law firms that are in the business of suing the government is a good way to bring about that endgame quickly.', 'These stunning executive orders dare the courts to either make themselves irrelevant, or to trigger what could be the final showdown over the rule of law.', 'If you want to understand how litigants normally proceed when they want to convince the courts to make audacious changes to the law, consider Sweatt v. Painter (1950), a case brought by future Justice Thurgood Marshall a few years before he successfully convinced the justices to declare public school segregation unconstitutional in Brown v. Board of Education (1954).', 'Marshall’s goal was to convince the justices that, as they eventually concluded in Brown, “separate education facilities are inherently unequal,” even if a state attempted to equalize the resources provided to segregated Black and white schools. Before he brought the much more difficult challenge to K-12 segregation, however, Marshall chose a more favorable ground to fight for integrated educational facilities: law schools.', 'In Sweatt, a Black man was denied admission to the University of Texas Law School solely because of his race. Rather than integrate UT, Texas opened a new law school for aspiring Black lawyers, and argued that this facility solved the constitutional problem because now Black law students could receive a similar education to the one they would receive at the state’s flagship university.', 'But the justices, all of whom were lawyers, understood the subtle hierarchies of the legal profession — in which where you go to law school can determine the entire trajectory of your career — all too well to be fooled by this arrangement. ', 'As the Court’s unanimous decision explained, “the University of Texas Law School possesses to a far greater degree those qualities which are incapable of objective measurement but which make for greatness in a law school” – qualities like a reputation for excellence, and an alumni network full of successful lawyers eager to lend a hand to UT’s graduates. ', 'Marshall, in other words, understood that, by appealing to the professional sensibilities of the justices, he could make them see that the concept of “separate but equal” is at odds with itself. And once those justices took the easy step of empathizing with law students denied access to an elite school, it was much easier to get them to see themselves in grade school students shunted into an inferior elementary school.', 'Trump has done the exact opposite of what Marshall did in Sweatt. And that means that the same empathy that Marshall’s clients benefitted from in Sweatt and Brown is likely to cut against Trump.', 'Not only that, but the justices who will ultimately hear this case are likely to have unique sympathy for lawyers attacked by a politician seeking to discredit them, because many of them experienced just that in their confirmation hearings.', 'When Chief Justice John Roberts was nominated to the Supreme Court, for example, one of the few controversies surrounding his nomination was whether the positions he took as a lawyer representing a client could be attributed to him personally. Roberts had been a judge for only about two years when he was nominated for the Supreme Court, so his judicial record was quite thin, and some Democrats and their allies hoped to point to his work as a lawyer to discredit him. Among other things, they pointed to a brief Roberts signed as a Justice Department lawyer, which argued that Roe v. Wade should be overruled.', 'The White House and Senate Republicans’ defense of Roberts at the time was that a lawyer’s job is to represent their clients’ interests, even if they do not agree with the client. So it is unfair to attribute a former client’s views to their lawyer. And this was an excellent defense! The Constitution gives everyone a right to hire legal counsel to represent them before the courts. This entire system breaks down if lawyers who represent unpopular clients or positions face professional sanction for doing so.', 'The point is that the most powerful judge in the country, like numerous other judges who’ve had their careers probed by the Senate Judiciary Committee, has a very personal stake in the question of whether lawyers can be punished because the wrong elected officials don’t like their clients. ', 'That does not mean that the author of the Court’s unconscionable Trump immunity decision will suddenly have an epiphany and turn against Donald Trump. But if Trump’s goal is to turn Roberts (and numerous other judges) against him, attacking lawyers who stand in very similar shoes to the ones Roberts wore 20 years ago is a pretty good way to do it.']}]\n"
     ]
    }
   ],
   "source": [
    "vox_articles=[]\n",
    "vox_table = vox_soup.find('div', attrs = {'class':'duet--article--lede duet--page-layout--standard-article'})\n",
    "#print(type(vox_table))\n",
    "for row in vox_table.find_next('div', attrs = {'class':'duet--article--article-body-component'}, recursive=False):\n",
    "    #print(row)\n",
    "    vox_article = {}\n",
    "    vox_article['headline'] = vox_table.find('h1', attrs = {'class':'h74scy1 h74scy0 h74scy6 xkp0cga xkp0cg9'}).text\n",
    "    vox_article['subheading'] = vox_table.find('p', attrs = {'class':'duet--article--dangerously-set-cms-markup h74scyh h74scyg xkp0cga'}).text\n",
    "    vox_article['text'] = [i.text for i in vox_table.find_all_next('p', attrs = {'class':'duet--article--dangerously-set-cms-markup duet--article--standard-paragraph _1agbrixi lg8ac51 lg8ac50 xkp0cg1'})]\n",
    "    vox_articles.append(vox_article)\n",
    "print(len(vox_article['text']), vox_articles)\n"
   ]
  },
  {
   "cell_type": "markdown",
   "id": "b225f2c6-65ca-4ff7-8f4c-9a87dde94d24",
   "metadata": {},
   "source": [
    "The below functions for extracting news data from Fox News were heavily based on an existing Fox News webscraper published on GitHub by the user StickmanNinja. The license for the scraper is Apache 2.0. I have adjusted the below functions to make them conducive to Python 3.0 (original scraper appears to have been made using an earlier version of Python), and have changed several of the variable names.\n",
    "\n",
    "Here is a link to the repository for the webscraper: [Fox-News-Web-Scraper](https://github.com/StickmanNinja/Fox-News-Web-Scraper/tree/master)"
   ]
  },
  {
   "cell_type": "code",
   "execution_count": null,
   "id": "8f4e37d1-194f-4083-8e9c-210dfd5b371d",
   "metadata": {},
   "outputs": [],
   "source": [
    "#https://github.com/StickmanNinja/Fox-News-Web-Scraper/blob/master/FoxNewsScraper.py\n",
    "def title_url(fox_art):\n",
    "    articlesList = []\n",
    "    for text in fox_art:\n",
    "        print(text)\n",
    "        tag = text.find(\"a\")\n",
    "        #tag = text.find(\"h3\", {'class':'title'})\n",
    "        print(tag)\n",
    "        title = tag.getText()\n",
    "        url = tag.get(\"href\")\n",
    "        artDict = {\"title\" : title, \"url\" : url}\n",
    "        articlesList.append(artDict)\n",
    "\n",
    "def fox_parser():\n",
    "    URL = \"http://www.foxnews.com/\"\n",
    "    webpage = urllib.request.urlopen(URL)\n",
    "    r  = requests.get(URL)\n",
    "    art_text = r.text\n",
    "    soup = BeautifulSoup(art_text,\"lxml\")\n",
    "    for art in range(0, 100):\n",
    "        fox_articles = soup.find_all(\"article\", class_ =\"article story-\" + str(art))\n",
    "        print(fox_articles)\n",
    "        title_url(fox_articles)\n",
    "        \n",
    "fox_parser()\n",
    "title_url()"
   ]
  },
  {
   "cell_type": "markdown",
   "id": "a403df38-e8d7-4e89-b1c7-453b72034bca",
   "metadata": {},
   "source": [
    "### Parse contents"
   ]
  },
  {
   "cell_type": "code",
   "execution_count": null,
   "id": "d13ae1f3-f7b3-4f4e-9139-26ad6c50f8bb",
   "metadata": {},
   "outputs": [],
   "source": [
    "soup = BeautifulSoup(r.content, 'html5lib')\n",
    "#print(soup.prettify())"
   ]
  },
  {
   "cell_type": "code",
   "execution_count": null,
   "id": "052dd039-b5ed-4943-bd4f-edf1ca563299",
   "metadata": {},
   "outputs": [],
   "source": [
    "#soup.find_all(\"script\")[:1000]"
   ]
  },
  {
   "cell_type": "code",
   "execution_count": null,
   "id": "7a45d719-b882-43da-bc4b-3dbc315fe039",
   "metadata": {},
   "outputs": [],
   "source": [
    "#soup.find('data-n-head'==\"ssr\")"
   ]
  },
  {
   "cell_type": "code",
   "execution_count": null,
   "id": "bce46cda-9468-42a4-9382-11cd54875a67",
   "metadata": {},
   "outputs": [],
   "source": [
    "#headline_text=[]\n",
    "#table = soup.find('script')\n",
    "#for row in table.find_all('script', attrs = {'data-n-head':'ssr', 'type': 'application/ld+json'}):\n",
    "    #return(row)\n",
    "    #headline = row.find('headline').text.strip()\n",
    "    #text = row.find('articleBody').text.strip()\n",
    "    #title_text.append({'headline': headline, 'text':text})"
   ]
  },
  {
   "cell_type": "code",
   "execution_count": null,
   "id": "30d62732-d1f9-4524-b780-303cb3be90d4",
   "metadata": {},
   "outputs": [],
   "source": [
    "#headline_text"
   ]
  },
  {
   "cell_type": "markdown",
   "id": "d2581d93-8137-4e55-bf95-7a3793914532",
   "metadata": {},
   "source": [
    "## Part 2: Uploading and parsing subjective intensifiers data"
   ]
  },
  {
   "cell_type": "markdown",
   "id": "eed2e262-42f6-4fe8-af3f-558b684d3ba5",
   "metadata": {},
   "source": [
    "#### Import dependencies"
   ]
  },
  {
   "cell_type": "code",
   "execution_count": null,
   "id": "41bd7d8a-1a42-4a7c-9f31-01fc141557ab",
   "metadata": {},
   "outputs": [],
   "source": [
    "import numpy as np\n",
    "import pandas as pd\n",
    "import re"
   ]
  },
  {
   "cell_type": "markdown",
   "id": "18463252-ee22-46ee-b922-b2678430b2f9",
   "metadata": {},
   "source": [
    "#### Read in data"
   ]
  },
  {
   "cell_type": "code",
   "execution_count": null,
   "id": "147cae81-75aa-4ef3-9710-e2f608a67bf6",
   "metadata": {
    "scrolled": true
   },
   "outputs": [],
   "source": [
    "#https://stackoverflow.com/questions/64966365/parse-sgml-using-beautiful-soup\n",
    "with open(\"acl-99-data/subjectivity.data\", \"r\") as f:\n",
    "    entries = f.read()\n",
    "    soup = BeautifulSoup(entries, \"html.parser\")\n",
    "print(soup)\n",
    "type(soup)"
   ]
  },
  {
   "cell_type": "code",
   "execution_count": null,
   "id": "9dedeb95-d059-40dd-9a2e-ab06edc32e8c",
   "metadata": {},
   "outputs": [],
   "source": [
    "sublists = []\n",
    "data_str = str(soup)\n",
    "data_list = data_str.split('<mc')\n",
    "for line in data_list:\n",
    "    line = line.split(' ')\n",
    "    sublists.append(line)\n",
    "\n",
    "for line2 in sublists:\n",
    "    del line2[0]\n",
    "\n",
    "for lines in sublists:\n",
    "    if len(lines) > 10:\n",
    "        print(lines)"
   ]
  },
  {
   "cell_type": "code",
   "execution_count": null,
   "id": "3310ef72-59f5-4cfe-ab58-de1ca8975f1d",
   "metadata": {},
   "outputs": [],
   "source": [
    "#make list of dictionaries for each word\n",
    "listDict = []\n",
    "for sublist in range(len(sublists)):\n",
    "    listDict.append({})\n",
    "len(listDict)\n",
    "\n",
    "#each dictionary is a word\n",
    "attr_list = []\n",
    "for sublist in sublists:\n",
    "    for items in sublist:\n",
    "        item = items.split('=')\n",
    "        attr_list.append(item)\n",
    "\n",
    "attr_List = []\n",
    "group = []\n",
    "for item in attr_list:\n",
    "    if item[0] == 'cluster':\n",
    "        attr_List.append(group)\n",
    "        group = []\n",
    "    group.append(item)\n",
    "\n",
    "for item in items:\n",
    "    for diction in listDict:\n",
    "    #print(item[0])\n",
    "        if item[0] == 'cluster':\n",
    "            diction['cluster'] = item[1]\n",
    "\n",
    "attr_List"
   ]
  },
  {
   "cell_type": "markdown",
   "id": "4bda1209-af5e-4f09-8796-f9ff2e0a5471",
   "metadata": {},
   "source": [
    "#### Creating dataframe from subjective intensifiers data"
   ]
  },
  {
   "cell_type": "markdown",
   "id": "10b00a54-5154-47f9-a0d6-5a0ab62f0a51",
   "metadata": {},
   "source": [
    "#### Basic assessment of data"
   ]
  },
  {
   "cell_type": "code",
   "execution_count": null,
   "id": "3e1f7b24-4341-4321-9356-5800a54a57f6",
   "metadata": {},
   "outputs": [],
   "source": []
  }
 ],
 "metadata": {
  "kernelspec": {
   "display_name": "Python [conda env:base] *",
   "language": "python",
   "name": "conda-base-py"
  },
  "language_info": {
   "codemirror_mode": {
    "name": "ipython",
    "version": 3
   },
   "file_extension": ".py",
   "mimetype": "text/x-python",
   "name": "python",
   "nbconvert_exporter": "python",
   "pygments_lexer": "ipython3",
   "version": "3.12.2"
  }
 },
 "nbformat": 4,
 "nbformat_minor": 5
}
