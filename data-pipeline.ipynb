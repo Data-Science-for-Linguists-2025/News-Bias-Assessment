{
 "cells": [
  {
   "cell_type": "markdown",
   "id": "77712d7d-501a-4b2b-8338-a63bcc41eeb8",
   "metadata": {},
   "source": [
    "# Data Pipeline"
   ]
  },
  {
   "cell_type": "markdown",
   "id": "7ef0090f-ec89-4ed2-b7d9-e4653e89ec61",
   "metadata": {},
   "source": [
    "## Part 1: Webscraping news articles"
   ]
  },
  {
   "cell_type": "markdown",
   "id": "2b262409-1437-4bff-92fa-d406d56d21a6",
   "metadata": {},
   "source": [
    "### Install packages"
   ]
  },
  {
   "cell_type": "code",
   "execution_count": 4,
   "id": "d55adc78-6f57-41eb-a561-a5e0d94e703d",
   "metadata": {},
   "outputs": [],
   "source": [
    "import html5lib\n",
    "import bs4\n",
    "import requests\n",
    "from bs4 import BeautifulSoup"
   ]
  },
  {
   "cell_type": "markdown",
   "id": "a5db5642-c716-4dd4-8389-29c40d69ae8b",
   "metadata": {},
   "source": [
    "### Access contents"
   ]
  },
  {
   "cell_type": "code",
   "execution_count": 6,
   "id": "8f4e37d1-194f-4083-8e9c-210dfd5b371d",
   "metadata": {},
   "outputs": [
    {
     "name": "stdout",
     "output_type": "stream",
     "text": [
      "b'<!DOCTYPE html><html lang=\"en-US\"><meta name=\"bingbot\" content=\"nocache\"/><head><meta charSet=\"utf-8\"/><meta name=\"twitter:card\" content=\"summary_large_image\"/><meta name=\"twitter:site\" content=\"@voxdotcom\"/><meta property=\"fb:app_id\" content=\"549923288395304\"/><meta property=\"og:site_name\" content=\"Vox\"/><meta name=\"viewport\" content=\"width=device-width, initial-scale=1, shrink-to-fit=no\"/><meta name=\"apple-mobile-web-app-title\" content=\"Vox\"/><link rel=\"alternate\" type=\"application/rss+xml\" title=\"Vox\" href=\"/rss/index.xml\"/><title>Trump, Hegseth purge key military leaders. Here\\xe2\\x80\\x99s what\\xe2\\x80\\x99s at stake. | Vox</title><meta name=\"robots\" content=\"index,follow,max-image-preview:large\"/><meta name=\"description\" content=\"How the Friday night massacre could change America\\xe2\\x80\\x99s armed forces.\"/><meta property=\"og:title\" content=\"What Trump\\xe2\\x80\\x99s military purge was really about\"/><meta property=\"og:description\" content=\"How the Friday night massacre could change America\\xe2\\x80\\x99s armed forces.\"/><meta p'\n",
      "b'<!doctype html>\\n<html data-n-head-ssr lang=\"en\" data-n-head=\"%7B%22lang%22:%7B%22ssr%22:%22en%22%7D%7D\">\\n  <head>\\n    <title>Volodymyr Zelenskyy, Donald Trump come to agreement on minerals deal | Fox News</title><meta data-n-head=\"ssr\" http-equiv=\"X-UA-Compatible\" content=\"IE=edge,chrome=1\"><meta data-n-head=\"ssr\" data-hid=\"content-type\" http-equiv=\"content-type\" content=\"text/html; charset=UTF-8\"><meta data-n-head=\"ssr\" data-hid=\"x-dns-prefetch-control\" http-equiv=\"x-dns-prefetch-control\" content=\"on\"><meta data-n-head=\"ssr\" charset=\"UTF-8\"><meta data-n-head=\"ssr\" data-hid=\"viewport\" name=\"viewport\" content=\"width=device-width, minimum-scale=1.0, initial-scale=1.0\"><meta data-n-head=\"ssr\" name=\"msapplication-square70x70logo\" content=\"//static.foxnews.com/static/orion/styles/img/fox-news/favicons/mstile-70x70.png\"><meta data-n-head=\"ssr\" name=\"msapplication-square150x150logo\" content=\"//static.foxnews.com/static/orion/styles/img/fox-news/favicons/mstile-150x150.png\"><meta data-n-head=\"'\n"
     ]
    }
   ],
   "source": [
    "headers = {'User-Agent': \"Mozilla/5.0 (Macintosh; Intel Mac OS X 10_11_2) AppleWebKit/601.3.9 (KHTML, like Gecko) Version/9.0.2 Safari/601.3.9\"}\n",
    "URLS = [\"https://www.vox.com/donald-trump/401174/trump-fired-generals\", \"https://www.foxnews.com/world/trump-says-minerals-deal-has-been-pretty-much-negotiated-zelenskyy-meeting-slated-friday\"]\n",
    "for url in URLS:\n",
    "    r = requests.get(url, headers=headers)\n",
    "    print(r.content[:1000])"
   ]
  },
  {
   "cell_type": "markdown",
   "id": "a403df38-e8d7-4e89-b1c7-453b72034bca",
   "metadata": {},
   "source": [
    "### Parse contents"
   ]
  },
  {
   "cell_type": "code",
   "execution_count": 8,
   "id": "d13ae1f3-f7b3-4f4e-9139-26ad6c50f8bb",
   "metadata": {},
   "outputs": [
    {
     "name": "stdout",
     "output_type": "stream",
     "text": [
      "<!DOCTYPE html>\n",
      "<html data-n-head=\"%7B%22lang%22:%7B%22ssr%22:%22en%22%7D%7D\" data-n-head-ssr=\"\" lang=\"en\">\n",
      " <head>\n",
      "  <title>\n",
      "   Volodymyr Zelenskyy, Donald Trump come to agreement on minerals deal | Fox News\n",
      "  </title>\n",
      "  <meta content=\"IE=edge,chrome=1\" data-n-head=\"ssr\" http-equiv=\"X-UA-Compatible\"/>\n",
      "  <meta content=\"text/html; charset=utf-8\" data-hid=\"content-type\" data-n-head=\"ssr\" http-equiv=\"content-type\"/>\n",
      "  <meta content=\"on\" data-hid=\"x-dns-prefetch-control\" data-n-head=\"ssr\" http-equiv=\"x-dns-prefetch-control\"/>\n",
      "  <meta charset=\"utf-8\" data-n-head=\"ssr\"/>\n",
      "  <meta content=\"width=device-width, minimum-scale=1.0, initial-scale=1.0\" data-hid=\"viewport\" data-n-head=\"ssr\" name=\"viewport\"/>\n",
      "  <meta content=\"//static.foxnews.com/static/orion/styles/img/fox-news/favicons/mstile-70x70.png\" data-n-head=\"ssr\" name=\"msapplication-square70x70logo\"/>\n",
      "  <meta content=\"//static.foxnews.com/static/orion/styles/img/fox-news/favicons/mstile-150x150.png\" data-n-head=\"ssr\" name=\"msapplication-squa\n"
     ]
    }
   ],
   "source": [
    "soup = BeautifulSoup(r.content, 'html5lib')\n",
    "print(soup.prettify()[:1000])"
   ]
  },
  {
   "cell_type": "code",
   "execution_count": 9,
   "id": "052dd039-b5ed-4943-bd4f-edf1ca563299",
   "metadata": {},
   "outputs": [],
   "source": [
    "#soup.find_all(\"script\")[:1000]"
   ]
  },
  {
   "cell_type": "code",
   "execution_count": 10,
   "id": "7a45d719-b882-43da-bc4b-3dbc315fe039",
   "metadata": {},
   "outputs": [],
   "source": [
    "#soup.find('data-n-head'==\"ssr\")"
   ]
  },
  {
   "cell_type": "code",
   "execution_count": 11,
   "id": "bce46cda-9468-42a4-9382-11cd54875a67",
   "metadata": {},
   "outputs": [
    {
     "ename": "SyntaxError",
     "evalue": "'return' outside function (171558838.py, line 4)",
     "output_type": "error",
     "traceback": [
      "\u001b[0;36m  Cell \u001b[0;32mIn[11], line 4\u001b[0;36m\u001b[0m\n\u001b[0;31m    return(row)\u001b[0m\n\u001b[0m    ^\u001b[0m\n\u001b[0;31mSyntaxError\u001b[0m\u001b[0;31m:\u001b[0m 'return' outside function\n"
     ]
    }
   ],
   "source": [
    "headline_text=[]\n",
    "table = soup.find('script')\n",
    "for row in table.find_all('script', attrs = {'data-n-head':'ssr', 'type': 'application/ld+json'}):\n",
    "    return(row)\n",
    "    #headline = row.find('headline').text.strip()\n",
    "    #text = row.find('articleBody').text.strip()\n",
    "    #title_text.append({'headline': headline, 'text':text})"
   ]
  },
  {
   "cell_type": "code",
   "execution_count": null,
   "id": "30d62732-d1f9-4524-b780-303cb3be90d4",
   "metadata": {},
   "outputs": [],
   "source": [
    "headline_text"
   ]
  },
  {
   "cell_type": "markdown",
   "id": "d2581d93-8137-4e55-bf95-7a3793914532",
   "metadata": {},
   "source": [
    "## Part 2: Uploading and parsing subjective intensifiers data"
   ]
  },
  {
   "cell_type": "markdown",
   "id": "eed2e262-42f6-4fe8-af3f-558b684d3ba5",
   "metadata": {},
   "source": [
    "#### Import dependencies"
   ]
  },
  {
   "cell_type": "code",
   "execution_count": null,
   "id": "41bd7d8a-1a42-4a7c-9f31-01fc141557ab",
   "metadata": {},
   "outputs": [],
   "source": [
    "import numpy as np\n",
    "import pandas as pd"
   ]
  },
  {
   "cell_type": "markdown",
   "id": "18463252-ee22-46ee-b922-b2678430b2f9",
   "metadata": {},
   "source": [
    "#### Read in data"
   ]
  },
  {
   "cell_type": "code",
   "execution_count": null,
   "id": "147cae81-75aa-4ef3-9710-e2f608a67bf6",
   "metadata": {},
   "outputs": [],
   "source": [
    "#https://stackoverflow.com/questions/64966365/parse-sgml-using-beautiful-soup\n",
    "with open(\"acl-99-data/subjectivity.data\", \"r\") as f:\n",
    "    entries = f.read()\n",
    "    soup = BeautifulSoup(entries, \"html.parser\")\n",
    "print(soup)"
   ]
  },
  {
   "cell_type": "markdown",
   "id": "10b00a54-5154-47f9-a0d6-5a0ab62f0a51",
   "metadata": {},
   "source": [
    "#### Basic assessment of data"
   ]
  },
  {
   "cell_type": "code",
   "execution_count": null,
   "id": "f2806acf-aafd-4d04-90b4-f7b1fc25045f",
   "metadata": {},
   "outputs": [],
   "source": [
    "entries=[]\n",
    "table = soup.find('txt')\n",
    "m_c = table.find_all_next('mc')\n",
    "#print(m_c[0])\n",
    "#entries_dict = {}\n",
    "print(m_c[0].mc)"
   ]
  },
  {
   "cell_type": "code",
   "execution_count": null,
   "id": "da3934ae-14a4-4dc3-9931-f800604055b8",
   "metadata": {},
   "outputs": [],
   "source": [
    "len(m_c)"
   ]
  },
  {
   "cell_type": "code",
   "execution_count": null,
   "id": "08298616-c3d2-486f-b878-4a3bf4708022",
   "metadata": {},
   "outputs": [],
   "source": [
    "..\n",
    "if 'cluster' in row.mc:\n",
    "        entries_dict['subj'] = row.mc['cluster']\n",
    "    if 'cmt' in row.mc:\n",
    "        entries_dict['cmt'] = row.mc['cmt']\n",
    "    if 'soa' in row.mc:\n",
    "        entries_dict['soa'] = row.mc['soa']\n",
    "    if 'uid' in row.mc:\n",
    "        entries_dict['uid'] = row.mc['uid']\n",
    "    if 'nc' in row.wf:\n",
    "        entries_dict['nc'] = row.wf['nc']\n",
    "    if 'pos' in row.wf:\n",
    "        entries_dict['pos'] = row.wf['pos']\n",
    "    if 'quote' in row.wf:\n",
    "        entries_dict['quote'] = row.wf['quote']\n",
    "    if 'stem' in row.wf:\n",
    "        entries_dict['stem'] = row.wf['stem']\n",
    "    if 'pnum' in row.p:\n",
    "        entries_dict['pnum'] = row.p['pnum']\n",
    "    if 's_id' in row.s:\n",
    "        entries_dict['s_id'] = row.s['s_id']\n",
    "    if 'snum' in row.s:\n",
    "        entries_dict['snum'] = row.s['snum']\n",
    "    entries.append(entries_dict)"
   ]
  },
  {
   "cell_type": "code",
   "execution_count": null,
   "id": "3e1f7b24-4341-4321-9356-5800a54a57f6",
   "metadata": {},
   "outputs": [],
   "source": []
  }
 ],
 "metadata": {
  "kernelspec": {
   "display_name": "Python [conda env:base] *",
   "language": "python",
   "name": "conda-base-py"
  },
  "language_info": {
   "codemirror_mode": {
    "name": "ipython",
    "version": 3
   },
   "file_extension": ".py",
   "mimetype": "text/x-python",
   "name": "python",
   "nbconvert_exporter": "python",
   "pygments_lexer": "ipython3",
   "version": "3.12.2"
  }
 },
 "nbformat": 4,
 "nbformat_minor": 5
}
