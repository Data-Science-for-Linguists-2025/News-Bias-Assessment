{
 "cells": [
  {
   "cell_type": "markdown",
   "id": "77712d7d-501a-4b2b-8338-a63bcc41eeb8",
   "metadata": {},
   "source": [
    "# Data Pipeline"
   ]
  },
  {
   "cell_type": "markdown",
   "id": "9f97d329-8efa-4c31-900e-10d63a1d7990",
   "metadata": {},
   "source": [
    "#### Working from existing pipeline from previous progress reports"
   ]
  },
  {
   "cell_type": "markdown",
   "id": "7ef0090f-ec89-4ed2-b7d9-e4653e89ec61",
   "metadata": {},
   "source": [
    "## Part 1: Webscraping news articles"
   ]
  },
  {
   "cell_type": "markdown",
   "id": "2b262409-1437-4bff-92fa-d406d56d21a6",
   "metadata": {},
   "source": [
    "### Install packages"
   ]
  },
  {
   "cell_type": "code",
   "execution_count": 1,
   "id": "d55adc78-6f57-41eb-a561-a5e0d94e703d",
   "metadata": {},
   "outputs": [],
   "source": [
    "import html5lib\n",
    "import bs4\n",
    "import requests\n",
    "from bs4 import BeautifulSoup\n",
    "import urllib\n",
    "import urllib.request"
   ]
  },
  {
   "cell_type": "markdown",
   "id": "ce5c317b",
   "metadata": {},
   "source": [
    "### Creating list of Vox articles to parse"
   ]
  },
  {
   "cell_type": "code",
   "execution_count": 11,
   "id": "715a342d",
   "metadata": {},
   "outputs": [
    {
     "data": {
      "text/plain": [
       "14"
      ]
     },
     "execution_count": 11,
     "metadata": {},
     "output_type": "execute_result"
    }
   ],
   "source": [
    "vox_URLs = ['https://www.vox.com/future-perfect/406453/trump-tariffs-china-shock', 'https://www.vox.com/scotus/406277/supreme-court-donald-trump-law-firms-arrogant', 'https://www.vox.com/immigration/406697/trump-immigration-deportation-poll-public-opinion-economy-approval-border', 'https://www.vox.com/politics/406742/wisconsin-supreme-court-election-results-susan-crawford-brad-schimel-elon-musk-democrats', 'https://www.vox.com/politics/406606/cory-booker-marathon-speech-filibuster-senate-floor-briefly-explained-protest', 'https://www.vox.com/politics/406467/trump-tariffs-prices-liberation-day-economy', 'https://www.vox.com/politics/405748/democrats-leader-michelle-obama-savior-sanders-aoc-walz-biden-harris', 'https://www.vox.com/the-logoff-newsletter-trump/406531/trump-third-presidential-term-constitution-briefly-explained', 'https://www.vox.com/scotus/406464/supreme-court-catholic-charities-wisconsin-religion', 'https://www.vox.com/politics/406357/democrat-tea-party-anger-rage-base-bernie-aoc-schumer-primary', 'https://www.vox.com/today-explained-newsletter/406329/trump-economy-ukraine-russia-germany-france-tariffs', 'https://www.vox.com/politics/406336/fentanyl-china-canada-mexico-trump', 'https://www.vox.com/politics/406403/foreign-aid-doge-trump-rubio', 'https://www.vox.com/politics/406398/elon-musk-wisconsin-supreme-court-payment-lottery']\n",
    "len(vox_URLs)"
   ]
  },
  {
   "cell_type": "markdown",
   "id": "31371a54",
   "metadata": {},
   "source": [
    "### Creating list of Fox articles to parse"
   ]
  },
  {
   "cell_type": "code",
   "execution_count": 13,
   "id": "bd8a7965",
   "metadata": {},
   "outputs": [
    {
     "data": {
      "text/plain": [
       "10"
      ]
     },
     "execution_count": 13,
     "metadata": {},
     "output_type": "execute_result"
    }
   ],
   "source": [
    "fox_URLs = ['https://www.foxnews.com/politics/wisconsin-florida-elections-get-spin-treatment-dems-gop-look-ahead-2026-midterms', 'https://www.foxnews.com/politics/house-republicans-brush-off-stefaniks-trump-admin-upheaval-amid-high-stakes-florida-race', 'https://www.foxnews.com/politics/pence-group-lashes-out-trump-tariffs-ahead-liberation-day-event-tax-american-consumers', 'https://www.foxnews.com/politics/reporters-notebook-april-fools-capitol-hill', 'https://www.foxnews.com/politics/fbi-flooded-record-number-new-agent-applications-kash-patels-first-month-leading-bureau', 'https://www.foxnews.com/us/trump-administration-deports-100k-illegal-migrants-since-inauguration-report', 'https://www.foxnews.com/politics/booker-called-filibuster-abuse-power-years-before-setting-senate-speech-record', 'https://www.foxnews.com/media/doge-volunteer-credits-trump-unprecedented-effort-curb-jaw-dropping-social-security-fraud', 'https://www.foxnews.com/media/planned-parenthood-apologizes-inadvertently-gives-sexually-explicit-coloring-book-children', 'https://www.foxnews.com/politics/dem-senator-who-ditched-tesla-protest-musk-refuses-call-violence-cars-domestic-terrorism']\n",
    "len(fox_URLs)"
   ]
  },
  {
   "cell_type": "markdown",
   "id": "68e17ee9",
   "metadata": {},
   "source": [
    "#### Testing scraping on Pitt Linguistics webpages"
   ]
  },
  {
   "cell_type": "code",
   "execution_count": 26,
   "id": "64a5fa9d",
   "metadata": {},
   "outputs": [
    {
     "name": "stdout",
     "output_type": "stream",
     "text": [
      "[{'headline': None}, {'headline': None}, {'headline': None}, {'headline': None}, {'headline': None}, {'headline': None}, {'headline': None}, {'headline': None}, {'headline': None}, {'headline': None}, {'headline': None}, {'headline': None}]\n"
     ]
    }
   ],
   "source": [
    "import html5lib\n",
    "import bs4\n",
    "import requests\n",
    "from bs4 import BeautifulSoup\n",
    "import time\n",
    "\n",
    "headers = {'User-Agent': \"Mozilla/5.0 (Macintosh; Intel Mac OS X 10_11_2) AppleWebKit/601.3.9 (KHTML, like Gecko) Version/9.0.2 Safari/601.3.9\"}\n",
    "pitt_URLs = ['https://www.linguistics.pitt.edu/graduate/ma-program', 'https://www.linguistics.pitt.edu/research', 'https://www.linguistics.pitt.edu/esl-tesol', 'https://www.linguistics.pitt.edu/languages']\n",
    "\n",
    "pitt_data = []\n",
    "for url in pitt_URLs:\n",
    "    pitt_r = requests.get(url=url, headers=headers)\n",
    "    #print(pitt_r.content[:1000])\n",
    "    pitt_soup = BeautifulSoup(pitt_r.content, 'html5lib')\n",
    "    #print(pitt_soup.prettify())\n",
    "    table = pitt_soup.find('header')\n",
    "    for row in table.find('div'):\n",
    "        pitt_article = {}\n",
    "        pitt_article['headline'] = table.find('li')\n",
    "        pitt_data.append(pitt_article)\n",
    "    time.sleep(10)\n",
    "print(pitt_data[:1000])"
   ]
  },
  {
   "cell_type": "markdown",
   "id": "a5db5642-c716-4dd4-8389-29c40d69ae8b",
   "metadata": {},
   "source": [
    "### Fox Parser"
   ]
  },
  {
   "cell_type": "code",
   "execution_count": null,
   "id": "1ce6bd78",
   "metadata": {},
   "outputs": [
    {
     "name": "stdout",
     "output_type": "stream",
     "text": [
      "done!\n",
      "done!\n",
      "done!\n",
      "done!\n",
      "done!\n",
      "done!\n",
      "done!\n",
      "done!\n",
      "done!\n",
      "done!\n",
      "[{'headline': 'Wisconsin, Florida elections get spin treatment with fingers pointed at Trump and Musk', 'text': 'MILWAUKEE — Democrats are celebrating a larger-than-expected victory in a high-profile and historically expensive election in battleground Wisconsin, in the first statewide ballot box contest since President Donald Trump\\'s return to power in January. Liberal-leaning Judge Susan Crawford topped conservative-leaning Judge Brad Schimel by roughly 10 percentage points – with some votes still being tabulated – to preserve the liberal majority on the Wisconsin Supreme Court, which is likely to rule going forward on crucial issues like congressional redistricting, voting rights, labor rights and abortion. With a massive infusion of money from Democratic-aligned and Republican-aligned groups from outside Wisconsin, which turned the race into the most expensive judicial election in the nation\\'s history, the contest partially transformed into a referendum on Trump\\'s sweeping and controversial moves during the opening months of his second tour of duty in the White House. Also front and center in the technically nonpartisan showdown was someone who, along with Trump, was not on the ballot: billionaire Elon Musk, the president\\'s top donor and White House advisor, who inserted himself into the race. LIBERAL-LEANING CANDIDATE WINS FIRST MAJOR STATEWIDE ELECTION OF THE YEAR  \"The people of Wisconsin squarely rejected the influence of Elon Musk, Donald Trump, and billionaire special interests,\" Democratic National Committee chair Ken Martin claimed. And the DNC, looking ahead to next year\\'s bigger contests in the 2026 midterm elections, called the showdown in Wisconsin a \"bellwether race.\" But Republicans came out on top in Tuesday\\'s other marquee contests, holding control of two vacant congressional seats in twin special elections in red state Florida. The double-digit victories by the Republican candidates will give the GOP a little bit of breathing room in the House of Representatives, where the party is holding onto a very fragile majority as it aims to pass Trump\\'s agenda. REPUBLICANS HOLD CONTROL OF TWO VACANT CONGRESSIONAL SEATS IN THIS RED STATE \"The American people sent a clear message tonight: they want elected officials who will advance President Trump’s America First agenda, and their votes can’t be bought by national Democrats,\"&nbsp;Republican National Committee chair Mike Whatley argued. The Democratic candidates in the two special congressional elections vastly outraised their Republican counterparts – a sign that the party\\'s base is angry and energized – which forced GOP-aligned outside groups to pour money and resources into the races during the final stretch. And the Democratic candidates ended up losing by 15 and 14 points in districts that Trump carried by 37 and 30 points in last November\\'s presidential election. Democrats quickly spotlighted how the party \"overperformed\" in Florida. And the House Majority PAC, the top super PAC supporting House Democrats, touted that the results showed \"that the political headwinds are firmly at our backs heading into 2026.\" But Mike Marinella, spokesman for the National Republican Congressional Committee, argued that \"Democrats just lit over $20,000,000 on fire in a doomed-to-fail effort to make two deep-red Florida districts competitive – and got blown out of the water in the most embarrassing way.\"  But the results in Florida, and especially Wisconsin, will likely give the Democrats a jolt, and validate their efforts to target Musk. Musk, the chief executive of Tesla and SpaceX, who has taken a buzz saw to the federal government workforce as he steers Trump\\'s recently created Department of Government Efficiency, dished out roughly $20 million in the Wisconsin race through aligned groups in support of Schimel. And Musk, in a controversial move, handed out $1 million checks at a rally in Green Bay on Sunday evening to two Wisconsin voters who had already cast ballots in the contest and had signed a petition to stop \"activist judges.\" \"I never could have imagined that I\\'d be taking on the richest man in the world, for justice in Wisconsin. And we won,\" Crawford said in her election night victory speech.  Senate Minority Leader Chuck Schumer, the top Democrat in the chamber, argued that Wisconsin voters \"sent a decisive message to Elon Musk, Donald Trump, and DOGE by rejecting an extreme Republican for their Supreme Court: our democracy is not for sale.\" \"Anyone who counted Democrats out was dead wrong,\" he emphasized. But Democrats have a serious brand issue right now. The party\\'s favorable rating sank to all-time lows in separate national polls conducted last month by CNN and NBC News. Those numbers followed a record low for Democrats in a Quinnipiac University survey in the field in February.&nbsp; Additionally, the latest Fox News National poll indicated that congressional Democrats\\' approval rating is at 30%, near an all-time low. And Democratic activists are irate over their party\\'s inability to blunt Trump\\'s agenda. And when it comes to normally low-turnout off-year elections and special elections, the party in power – which in the nation\\'s capital is clearly the Republicans – often faces political headwinds. \"We\\'ll get up to fight another day. But this wasn\\'t our day,\" Schimel said in his concession speech.  And Wisconsin GOP chair Brian Schimming noted that \"coming off a successful November, we knew the April elections would be challenging.\" Republicans note that Democrats enjoyed a slew of special election victories in 2023 and 2024 before suffering serious setbacks in last November\\'s elections. CLICK HERE TO GET THE FOX NEWS APP \"Special elections are special for a reason, and not always useful canaries in the coal mines for what lies ahead,\" veteran Republican strategist Colin Reed told Fox News Digital. \"While they can be used as a barometer for energy, they are also a reflection of the individual candidates whose names are on the ballots.\" Reed argued that \"the bigger challenge for the Democrats looking ahead is the lack of a vision or governing agenda beyond reflexive and blanket opposition to the White House and their continued positioning way outside the mainstream on a slew of commonsense issues.\"'}, {'headline': \"House Republicans brush off Stefanik's Trump admin upheaval amid high-stakes Florida race\", 'text': 'House Republicans are brushing off reports of anxiety over three historically red congressional seats, as the special election for two of them looms just a day away. \"Jimmy Patronis and Randy Fine are exactly who House Republicans need to join our team,\" House Majority Whip Tom Emmer, R-Minn., told Fox News Digital last week, referring to candidates running in Florida\\'s special election Tuesday. Patronis is running for Florida\\'s 1st Congressional District, which was vacated by former Rep. Matt Gaetz, R-Fla., and Fine is running for Florida 6th District, previously held by former Rep. Mike Waltz, R-Fla., who now serves as U.S. national security advisor. Republicans have conceded they have been far outraised in those districts, and despite their likely victory, Democrats\\' over-performance has reportedly raised concerns about the GOP\\'s fate in other areas of the country. ELISE STEFANIK DETAILS ‘TEAM PLAYER’ DECISION TO REMAIN IN CONGRESS AFTER TRUMP REQUEST TO PULL UN NOMINATION  It comes after suggestions that GOP discord in a Republican-favored district in upstate New York made some people nervous about Rep. Elise Stefanik, R-N.Y., ascending to President Donald Trump\\'s nomination as ambassador to the United Nations. Stefanik withdrew her nomination on Friday in a decision that blindsided even lower levels of House GOP leadership, sources told Fox News Digital. Democrats immediately seized on the news as evidence that Republicans were worried about losing her seat in New York\\'s 21st District – something Republicans flatly denied, while blaming the state\\'s progressive governor for signaling she would slow-walk the special election to replace Stefanik. \"It was a combination of the New York corruption that we\\'re seeing under Kathy Hochul, special elections and the House margin,\" Stefanik said on \"Hannity\" Friday. \"I\\'ve been in the House. It\\'s tough to count these votes every day. And we are going to continue to defy the political prognosticators and deliver, deliver victory on behalf of President Trump and, importantly, the voters across this country.\" TRUMP ASKS STEFANIK TO WITHDRAW FROM UN AMBASSADOR CONTENTION OVER RAZOR-THIN HOUSE MAJORITY  Meanwhile, National Republican Congressional Committee (NRCC) spokeswoman Maureen O\\'Toole told Fox News Digital, \"We’d win this seat in a special election, and we’ll win it in a general election.\" Trump won the district by 20% in 2024, and Stefanik won every county during that same election cycle. He told reporters at the White House last week, \"We cannot take a chance. We have a slim margin,\" and said he did not know who would be running to replace her. But the president has also been busy at work in Florida, where he held tele-town halls for both Patronis and Fine over the weekend. While the Democrats are the underdogs in both races, they\\'re winning the fundraising battle. Democrat Gay Valimont hauled in over $6 million from Jan. 9 through March 12, compared to just $1.1 million for Patronis in Florida\\'s 1st District.&nbsp; Orlando teacher Josh Weil grabbed plenty of national attention in recent weeks by raising $9.3 million compared to roughly $600,000 for Republican state lawmaker Fine in the Sunshine State\\'s 6th District. The cash discrepancy in the 6th District race spurred GOP-aligned outside groups to make last-minute contributions in support of Fine in the closing days of the campaign, with conservative super PACs launching ads spotlighting Trump\\'s support of Fine.  They have no predictions of success, however, with House Minority Leader Hakeem Jeffries, D-N.Y., telling reporters earlier this month, \"These districts are so Republican, there would ordinarily be no reason to believe that the races will be close, but what I can say, almost guaranteed, is that the Democratic candidate in both of these Florida special elections will significantly overperform.\" CLICK HERE TO GET THE FOX NEWS APP But it has not alarmed the GOP\\'s core fundraising machines. Sources familiar told Fox News Digital that neither the NRCC nor the Congressional Leadership Fund – the top super PAC supporting House Republicans – are putting any resources into either race.  \"I would have preferred if our candidate had raised money at a faster rate and gotten on TV quicker,\" NRCC Chairman Richard Hudson, R-N.C., told reporters earlier this month. But Hudson added that Fine is \"doing what he needs to do. He’s on TV now,\" and emphasized, \"we’re going to win the seat. I’m not concerned at all.\"'}, {'headline': \"Pence group lashes out at Trump tariffs ahead of 'Liberation Day' event: 'Tax on American consumers'\", 'text': 'Former Vice President Mike Pence\\'s policy advocacy organization came out against President Donald Trump\\'s \"Liberation Day,\" arguing his tariff plans \"are essentially a tax on American consumers and businesses.\" In a post on X on Wednesday, along with a letter to Congress, the group Advancing American Freedom (AAF) stated the tariffs \"are essentially a tax on American consumers and businesses.\" This marks one of the rare occasions when the group, founded in 2021 based on the principles of Trump’s first term, has opposed his policies. \"Congress has a constitutional responsibility to reclaim its authority over taxation,\" AAF\\'s general counsel Marc Wheat wrote in the letter. TRUMP\\'S 11TH WEEK IN OFFICE SET TO FOCUS ON TARIFFS AS PRESIDENT TOUTS ‘LIBERATION DAY’  Wheat said Congress could achieve this by passing Sen. Mike Lee\\'s Article One Act, which was introduced in 2023 under the Biden administration. The bill would require Congress to approve national emergency declarations declared by the president within 30 days as well as place other barriers around such orders. \"The Framers knew from experience the dangers of abuse of the taxing power,\" Wheat wrote.&nbsp; Trump is expected to roll out his plan for reciprocal tariffs, which would impose higher taxes on countries that export goods to the U.S. on Wednesday afternoon, dubbing it \"Liberation Day.\" CANADIAN PRIME MINISTER MARK CARNEY SAYS ‘OLD RELATIONSHIP’ WITH US ‘IS OVER\\' AMID TENSION OVER TRUMP TARIFFS  \"April 2, 2025, will go down as one of the most important days in modern American history,\" White House press secretary Karoline Leavitt said during Tuesday\\'s White House press briefing. \"Our country has been one of the most open economies in the world, and we have the consumer base, hands down – the best consumer base. But too many foreign countries have their markets closed to our exports. This is fundamentally unfair.\"&nbsp; \"The lack of reciprocity contributes to our large and persistent annual trade deficit that\\'s gutted our industries and hollowed out key workforces,\" she continued. \"But those days of America, beginning tomorrow, being ripped off, are over. American workers and businesses will be put first under President Trump, just as he promised on the campaign trail.\"&nbsp; TRUMP PRESSES 4 GOP SENATORS AHEAD OF ANTI-CANADIAN TARIFF VOTE, ACCUSING THEM OF \\'TDS\\'  The White House has been discreet about Trump\\'s planned tariff announcement, only explaining reciprocal tariffs will restore fairness to U.S. trading after decades of disproportionate trade deals with other countries. \"I think it\\'s going to be something that\\'s going to bring a lot of wealth back to our country, tremendous wealth back to our country, actually,\" Trump told the media Monday. \"And, other countries are understanding, because they\\'ve been ripping us for 50 years, longer.\"&nbsp;  Trump and his administration said the tariff plan will boost business in the U.S. by encouraging companies to establish operations on American soil to bypass the tariffs, thereby creating job opportunities for American workers. CLICK HERE TO GET THE FOX NEWS APP In February, Trump signed executive orders imposing 25% tariffs on most goods imported from Canada and Mexico – citing national security concerns related to drug trafficking and illegal immigration – with Canadian oil and energy exports facing a 10% tariff.&nbsp; Fox News Digital\\'s Emma Colton contributed to this report.'}, {'headline': \"Reporter's Notebook: April Fools' on Capitol Hill\", 'text': 'These aren’t April Fools’ pranks. Yes, director Oliver Stone actually testified at a House hearing on the JFK assassination on April Fools’ Day this year. It was the first congressional hearing on President John F. Kennedy’s death since 1992. Stone then held a press availability. BOOKER CONCLUDES RECORD 25-HOUR SPEECH AGAINST TRUMP, MUSK MARKING THE LONGEST EVER ON THE SENATE FLOOR&nbsp;  Not on the grassy knoll. But in a corridor outside the hearing room. Surely this next item is an April Fools’ prank. Yes, House Republicans scheduled a hearing on what they believe is overreach by federal judges in their rulings against the Trump administration. And then a small group of Republicans blocked the House from even debating a GOP bill to rein in those judges. The reason? A dispute over whether the House should allow members who are pregnant or are new moms to vote remotely. ANNA PAULINA LUNA FORCES HOUSE LEADERSHIP\\'S HAND ON PROXY VOTING AS GOP WAR ESCALATES  House Speaker Mike Johnson, R-La., then sent the House home for the week Tuesday afternoon – after less than two days of work. You can’t make this stuff up. Or what about Sen. Cory Booker, D-N.J., giving a speech to rail against the Trump administration on the Senate floor which began at 7 p.m. ET on March 31 – but didn\\'t conclude until after 8 p.m. ET on April 1? In the process, Booker broke the Senate record for the longest speech in Senate history: 25 hours and five minutes. Booker bested the old mark of 24 hours and 18 minutes set by the late Sen. Strom Thurmond, R-S.C., in 1957 over a civil rights bill. But the hardest thing to believe about Booker’s marathon speech? A reporter asked the New Jersey Democrat if he wore a catheter or a diaper to get through the 25-hour stretch.  April Fool? \"I don’t want my doctor to get mad at me, but I spent time dehydrating myself beforehand so I did not have to go to the bathroom,\" said Booker. \"My strategy was to stop eating. I think I stopped eating on Friday. And then to stop drinking the night before I started on Monday.\" Now, the greatest April Fools’ joke of all? Despite Booker’s protracted oratory, one can argue that he wasn’t \"filibustering.\" \"Filibustering\" in the Senate is in the eye of the beholder. Or the mouth of the senator. The Senate features unlimited debate. And the act of \"filibustering\" carries a negative connotation. Opponents may pejoratively deride the other side as \"filibustering\" their bill or a nomination. But a senator might claim they’re not filibustering. They’re simply using a Senate prerogative.  But it’s an issue of debate whether Booker was actually \"holding something up.\" That’s the most defining characteristic of a filibuster. A senator can derail or delay Senate business. On the one hand, the Senate had no votes officially locked in for Tuesday. The Senate voted (ironically) to break a filibuster on the nomination of Matthew Whitaker to serve as ambassador to NATO at 7 p.m. ET Monday. That’s when Booker began his speech. By rule, the Senate can take up to 30 hours after cracking a filibuster before the confirmation vote takes place. It was presumed that the Senate would vote at some point on Tuesday to confirm Whitaker. Whitaker’s nomination wasn’t the most controversial thing before the Senate. But if senators consumed all the time afforded them after vaulting the filibuster, the Senate would automatically vote to confirm Whitaker at 1 a.m. ET Wednesday. That’s 30 hours after clearing the filibuster. So, it can be argued that Booker had a window under which to operate – which might make his address just a really long speech – and not a filibuster. Sen. Tim Kaine, D-Va., hoped to force a vote on a resolution to kneecap President Donald Trump’s tariffs on Canada on Tuesday. It would end the president’s emergency declaration to justify the tariffs. But that roll call vote wasn’t set either. So that means Booker wasn’t necessarily filibustering. WHITE HOUSE WARNS OF TRUMP VEOT IF TIM KAINE ‘STUNT’ VOTE TO CANCEL TARIFFS PASSES SENATE&nbsp;  Hollywood and \"Mr. Smith Goes to Washington\" imbued the public consciousness with the idea that a lengthy speech is automatically a filibuster. And often very dramatic. But in the Senate, most filibusters are silent. \"Filibustering\" is frequently the threat that senators will oppose something. Or, at the very least, oppose something so that the majority leader must jump through procedural hurdles to clear a filibuster. That’s what the Senate executed Monday night with a procedural vote to end the filibuster on the Whitaker nomination. So Booker’s stem-winder may have just been a slight delay. But not a filibuster in the most conventional sense. The Senate confirmed Whitaker Tuesday night after Booker concluded. But it’s also worth noting that Booker did not speak consecutively for 25-plus hours. So, was this truly a record-breaking speech? Yes, but a more accurate way to characterize his feat is that Booker established a new record for holding the Senate floor the longest.  During his speech, Booker would periodically \"yield for a question\" to a colleague while \"maintaining\" his right to the floor. Booker would speak for a while. And when his voice grew raspy, he’d yield to a host of Democrats: Sens. Chris Murphy, D-Conn., Tina Smith, D-Minn., Kirsten Gillibrand, D-N.Y., Tammy Duckworth, D-Ill., and&nbsp;Senate Minority Leader Chuck Schumer, D-N.Y. They’d each speak for 10 or 15 minutes. And then punctuate the end of their speech with an interrogative – sending things back over to Booker. This is \"legal\" in the Senate. Booker still had control of the floor so long as he remained standing. But it gave him a timeout to relax and recharge for a few moments. Kind of like calling in a relief pitcher from the bullpen for an inning or two. In track and field, officials sometimes dot a record-breaking sprint with an asterisk – noting that the mark was \"wind assisted.\" One could certainly make the case that Booker’s effort was \"wind assisted\" – via the \"wind\" of fellow senators consuming time with their own speeches. But Booker’s endeavor does not require a parliamentary asterisk. Here’s why: Strom Thurmond set the record for the longest \"speech\" in 1957. He began one evening and ended a little more than 24 hours later.  In Thurmond’s day, there was little TV. Certainly no C-Span. Many reporters didn’t even know what Thurmond was up to until the next morning. And Thurmond’s speech wasn’t even in the papers until the day after that. As a result, Thurmond didn’t have to hold the floor as strictly as Booker did. Fox has found that Thurmond left the floor at least several times during his speech. He used the restroom. Grabbed a sandwich in the cloakroom. Deferred to Senate Majority Leader Lyndon Johnson, D-Texas, the future president, to approve a few bills via unanimous consent and even swear in a new senator. If a tree falls in the forest... One can applaud Thurmond’s stamina. But Thurmond’s achievement is not any more significant than Booker’s from an endurance standpoint. Thurmond used certain timeouts to get the record. And so did Booker. And now Booker holds the record.  But because it was April Fools’ Day, would you believe it if I told you that U.S. Capitol Police arrested an aide to Booker for allegedly carrying a firearm inside the Capitol complex? How did the aide get into the Capitol complex with a handgun? Fox confirmed that Booker himself led the aide around a security checkpoint in the Hart Senate Office Building. That isn’t supposed to happen. And U.S. Capitol Police aren’t supposed to let lawmakers bring people into the complex without going through security. CLICK HERE TO GET THE FOX NEWS APP If I told you this all happened, you probably wouldn’t have believed it because it was April Fool’s Day. But this is Congress. And even April Fools’ Day is just another day on Capitol Hill.'}, {'headline': \"FBI flooded with record number of new agent applications in Kash Patel's first month leading bureau\", 'text': 'EXCLUSIVE: The FBI received a record number of new agent applications in Director Kash Patel’s first full month leading the bureau, with the flood of law enforcement job-seekers nearly doubling the monthly average since 2016. There were 5,577 new FBI agent applications submitted in March, Fox News Digital has learned.&nbsp; The last time the bureau saw a monthly figure even close to that number was April 2016, with 5,283 applications. By comparison, the monthly average in 2023 was 2,797 applications, with 3,383 applications per month in 2024, according to FBI data reviewed by Fox News Digital. KASH PATEL TAKES REINS AT SCANDAL-RIDDEN FBI WITH ‘AMERICA ALWAYS’ MINDSET: ‘LET GOOD COPS BE COPS’ \"Director Patel and Deputy Director (Dan) Bongino have put a major emphasis on restoring confidence in federal law enforcement and boosting new agent recruiting,\" FBI spokesman Ben Williamson told Fox News Digital on Wednesday. \"These record early returns certainly suggest the new FBI is heading in the right direction.\" &nbsp;  Since January, the FBI has seen more than 10,000 new agent applications, according to FBI data.&nbsp; In January, the first month of the Trump administration and the month of Patel’s nomination and confirmation hearing, the FBI saw 4,143 applications to join the bureau — the first time it had seen a month of new agent applications in the 4,000s since August 2020.&nbsp; TOP FIVE TAKEDOWNS: KASH PATEL’S FBI HITS THE GROUND RUNNING WITH MAJOR EARLY VICTORIES \"The record number of FBI job applications in March shows that people are inspired by Kash Patel’s commitment to restoring integrity and effectiveness at the bureau,\" Patel advisor Erica Knight told Fox News Digital on Wednesday. \"Americans are putting their trust in his leadership to rebuild the FBI and keep our communities safe.\"&nbsp; And, Knight told Fox News Digital, \"this is just the beginning.\"&nbsp;  \"Kash is dedicated to creating a stronger, more trusted FBI that serves the American people the way it was always meant to,\" Knight said.&nbsp; During his Senate confirmation hearing in late January, Patel illustrated the \"erosion of trust\" at the bureau, pointing to polling revealing that \"only 40% of Americans hold a favorable view of the FBI.\"&nbsp;  \"This must change,\" Patel testified. \"Public cooperation is vital for the bureau to solve crimes, and its declining reputation is already affecting recruitment efforts.\"&nbsp; FBI LAUNCHES TASK FORCE TO CRACK DOWN ON VIOLENT TESLA ATTACKS, MIGRANT THREATS The record number of new agent applications comes as Patel and Bongino put a heavy emphasis on new agent recruiting and restoring law enforcement morale by \"letting good cops be cops.\"&nbsp; In March, Patel released an FBI recruitment video, showing the director in the field with agents and highlighting footage from the hostage rescue team facility urging people to join the team.&nbsp;  The video ends with a graphic showing the FBI seal, and the words: \"A renewed mission. A stronger future.\"&nbsp; \"Apply today at FBIJobs.gov,\" the video says.&nbsp; Patel and Bongino also have privately emphasized to their staff the importance of boosting local partner engagement.&nbsp; CLICK HERE TO GET THE FOX NEWS APP  Sources familiar told Fox News Digital that Patel has instructed his team to offer full and total support to the families of fallen officers, while Bongino has personally reached out and met with the uniformed officers on FBI ground to thank them for their work that \"often goes unnoticed.\" \"Our team will continue to recruit the best law enforcement personnel in the country,\" Williamson told Fox News Digital. \"We hope to see even more brave men and women want to be a part of what we’re building.\"&nbsp;'}, {'headline': 'Trump administration deports 100K illegal migrants since inauguration: report', 'text': 'The Trump administration has deported more than 100,000 illegal migrants in the 10 weeks since&nbsp;President Donald Trump&nbsp;returned to the&nbsp;White House&nbsp;on Jan. 20, according to a New York Post report citing a Department of Homeland Security official. The large totals mean the president is on course to fulfill a key campaign promise of carrying out the largest domestic deportation operation in American history. Both Immigration and Customs Enforcement (ICE) and Border Patrol&nbsp;officials have made around 113,000 arrests and carried \"north of\" 100,000 deportations, the New York Post reported.  TRUMP ADMIN ENDS DEPORTATION PROTECTIONS FOR MASSIVE NUMBER OF VENEZUELANS AMID ILLEGAL IMMIGRATION CRACKDOWN \"He’s doing what he was voted in to do. Point blank!\" an ICE source told the outlet. Fox News Digital reached out to ICE and Homeland Security to confirm the figures but didn\\'t immediately hear back. &nbsp; Border czar Tom Homan has vowed to deport criminal illegal migrants, particularly those who pose national security threats, although it’s not known how many of those deported had committed crimes while in the U.S. Recent high-profile deportations have seen migrants deported to an El-Salvador mega prison after the president invoked the Alien Enemies Act, a 1798 wartime&nbsp;immigration law, to deport Venezuelan gang members. That move has since been held up in court with the Trump administration opting to deport 17 alleged members of Tren de Aragua to El Salvador from Guantánamo Bay on Sunday night via Title 8. The deportations come as the Trump administration has simultaneously reduced the number of illegal border crossers to record lows.&nbsp; The latest U.S. Customs and&nbsp;Border Protection&nbsp;(CBP) numbers show that during March, the southwest border saw the lowest number of crossings ever, with just 7,180 recorded.  TRUMP REPORTS ILLEGAL IMMIGRANT ENCOUNTERS AT HISTORIC LOWS DURING FIRST FULL MONTH IN OFFICE March\\'s numbers — with 1,146 fewer crossings than in February — represent a dramatic drop compared to the monthly average of 155,000 during the Biden administration. Under former President Joe Biden, border agents frequently recorded over 7,000 border crossings per day. The figures come after Trump announced earlier this month that apprehensions fell to 8,326 in the whole month of February, his first full month in office, which he said is a record-setting low.&nbsp;That figure marked a 96% drop from the highs of the Biden administration in December 2023. Following the February announcement, Trump defiantly declared that the border is now closed and that all of those border crossers would be quickly ejected or prosecuted for crimes against the U.S.  CLICK HERE TO GET THE FOX NEWS APP Biden’s highest single month was December 2023, when 249,785 Border Patrol apprehensions were recorded.&nbsp; Trump’s second term, much like his first, has consisted of&nbsp;executive orders, enforcing current laws and hard-line messaging to clamp down on illegal crossings. On his first day back in office, he declared a national emergency at the southern border. Trump has also signed orders ending birthright citizenship, suspending refugee admissions, ending the use of an app at the southern border to admit migrants via humanitarian parole and resumed border wall construction. Fox News’ Bill Melugin, Michael Lee and Alexandra Koch contributed to this report.'}, {'headline': \"Booker called filibuster an 'abuse of power' years before setting Senate speech record\", 'text': 'Sen. Cory Booker, D-N.J., condemned the Senate filibuster as an \"abuse of power\" in 2022, years before his party praised him for launching the \"longest filibuster in U.S. Senate history\" on Tuesday. Booker set the record for longest Senate floor speech at 25 hours and 5 minutes after starting to speak at 7 p.m. on Monday.&nbsp; The filibuster has been a deeply controversial tool for the Senate in recent years, with many Democrats condemning the practice during President Joe Biden\\'s administration as Republicans used it to foil his agenda. \"The filibuster has been abused to stop reforms supported by the vast majority of Americans—from background checks to protecting the right to vote. We must stop this abuse of power,\" Booker wrote on X in January 2022. Booker\\'s office did not immediately respond to a request for comment from Fox News Digital. DEM SENATOR SAYS PARTY BRAND IS ‘REALLY PROBLEMATIC’ AND LED TO THE LOSS OF TRUST OF WORKING-CLASS VOTERS  Former Sen. Kyrsten Sinema, who was the lone Democrat to oppose abolishing the filibuster during Biden\\'s administration, has poked fun at Democrats who criticized her at the time. DEM SENATOR BEHIND SOCIAL MEDIA FAIL RESPONDS TO ELON MUSK\\'S OFFER \"Maybe it isn’t an old Jim Crow relic, after all,\" she quipped about Booker\\'s performance on Tuesday, referencing President Barack Obama\\'s description of the filibuster.  Sinema specifically called out Rep. Pramila Jayapal. D-Wash., who condemned the \"Jim Crow filibuster\" just last year. Jayapal changed her tune when Republicans were trying to pass a continuing resolution in March, urging Democrats in the Senate, \"Don’t betray working families. Don’t give Trump and Elon Musk a blank check. Don’t be complicit in the slashing of government programs. Vote NO on cloture and NO on final passage of Republicans’ bad bill.\" WHO IS JAMES BOASBERG, THE US JUDGE AT THE CENTER OF TRUMP\\'S DEPORTATION EFFORTS? Cloture is the Senate term for ending a filibuster, causing Sinema to chime in, \"Just surprised to see support for the \\'Jim Crow filibuster\\' here,\" she wrote.  Booker himself has flipped on the issue multiple times. He gave a firm defense of the filibuster in 2019 before his call to remove it in 2022. CLICK HERE TO GET THE FOX NEWS APP He said at the time that Democrats \"should not be doing anything to mess with the strength of the filibuster.\" \"I will personally resist efforts to get rid of it,\" he said.'}, {'headline': \"DOGE volunteer credits Trump for unprecedented effort to curb 'jaw-dropping' Social Security fraud\", 'text': 'A U.S. Department of Government Efficiency (DOGE) volunteer credited President Donald Trump for the agency\\'s success in curbing government waste after the Elon Musk-led team uncovered \"jaw-dropping\" fraud in the Social Security system. \"None of this would have happened without President Trump,\" Antonio Gracias told Steve Doocy during \"Fox &amp; Friends\" Wednesday. \"President Trump had the courage to allow us to go across databases. He signed an executive order. It\\'s never been done before, where agencies could talk to each other and databases could talk with each other.\"&nbsp; \"That allowed us to connect all this data, to find these people across the system, across the benefit system, all the way to the voting records. It really took a lot of courage,\" he continued.&nbsp; EXPERT TURNS TABLES ON DEM CRITICS AFTER MUSK ACCUSES SOCIAL SECURITY OF BEING ‘PONZI SCHEME’ Musk and Gracias revealed over the weekend during a get-out-the-vote rally in Wisconsin that millions of noncitizens received Social Security numbers during former President Joe Biden\\'s tenure. The pair shared a chart showing a steady year-over-year increase, reaching more than 2 million in FY 2024, which ended on Sept. 30. FY23 saw roughly 1 million noncitizens issued Social Security numbers, as did FY25, which began in October and will end in September of this year.&nbsp;  \"We found that there were just about five-plus million of them that came to the country as illegals, were given various forms of parole or allowing [in] the country, and they got through an automatic system, Social Security numbers, so they could get into our benefit systems,\" Gracias said.&nbsp; \"And we tracked that through and found that they were on benefit programs,\" he noted. \"And just because we were curious, we then looked to see if they were on the voter rolls, and we found in a handful of cooperative states that there were thousands of them on the voter rolls and that many of them had voted.\" Gracias said that DOGE confirmed 1.3 million individuals who secured a fraudulent Social Security number received Medicare benefits, too.&nbsp; Doocy asked Gracias about the amount of money the agency has saved American taxpayers as it pertains to Social Security fraud alone.&nbsp; \"It\\'s in the billions,\" he responded. \"You saw the fraud on the phone lines itself. That was about $1.5 billion, and I would guess with Social Security already, we\\'re north of $10 billion.\" CLICK HERE TO GET THE FOX NEWS APP Meanwhile, DOGE said last week it had removed approximately 7 million Social Security accounts belonging to people listed as being over 120 years old.&nbsp; The agency has also found through its audits that the Social Security database included 20 million dead people marked as alive, Musk said at the Wisconsin town hall Sunday. Fox News\\' Alec Schemmel contributed to this report.&nbsp;'}, {'headline': \"Planned Parenthood apologizes for 'inadvertently' giving sexually explicit coloring book to children\", 'text': 'Planned Parenthood apologized for \"inadvertently\" giving sexually explicit coloring books to kids at a Kentucky museum event in March.&nbsp; \"We have learned that a staff member inadvertently distributed an item that wouldn’t typically be used in a setting like this event…we apologize for this error and are reviewing our internal protocols,\" an updated Friday statement attributed to Planned Parenthood and&nbsp;posted on the Kentucky Science Center’s Facebook page, reads.&nbsp; The&nbsp;coloring book, advertised as \"Planned Parenthood\\'s first ever adult coloring and activity book, created for their annual National Conference,\"&nbsp;was&nbsp;illustrated by&nbsp;Bethany Robertson and Sarah Sandman, and given to kids aged 8 through 13,&nbsp;WDRB reported, during an&nbsp;event on March 21.&nbsp; TRUMP ADMIN WITHHOLDS MILLIONS FROM PLANNED PARENTHOOD FOR CIVIL RIGHTS AND EXECUTIVE ORDER VIOLATIONS: REPORT  The coloring book included pictures of male and female genitalia, pages which appeared to show birth control pills, an IUD, and an activity page called \"Sex Libs,\" with fill-in-the-blank sentences including, \"The first time I ever put on a condom\" and \"My favorite way to put on a condom.\" It also includes a word search with words such as, \"abortion,\" \"clitoris,\" \"IUD,\" \"labia\" and \"consent.\"&nbsp; In the updated statement Friday on the&nbsp;Kentucky Science Center’s Facebook page, they stated, \"Our mission is, and always has been, to inspire a love of science through education and we regret that the adult-oriented coloring book was distributed and are taking ownership of this issue by reinforcing our processes to prevent it from happening again.\"&nbsp; BOTCHED LATE-TERM ABORTION SPURS LAWSUIT IN BLUE-STATE COURT: ‘HORRIFIC’  The&nbsp;original March 26, 2025 post on the&nbsp;Kentucky Science Center’s Facebook page says that \"We sincerely apologize for the distribution of a Planned Parenthood coloring book at our recent Health &amp; Wellness Days event. Planned Parenthood provided this material without our consent and it does not reflect our policies or the intended content for the event.\"&nbsp; The center added that \"We deeply regret the harm this caused. We are taking immediate steps to ensure that all materials distributed at our events are thoroughly reviewed in advance and this partner is no longer welcome at the Science Center.\"&nbsp; Fox News Digital reached out to both&nbsp;the&nbsp;Kentucky Science Center and Planned Parenthood for comment, but did not immediately receive a response.&nbsp; CLICK HERE TO GET THE FOX NEWS APP&nbsp;&nbsp;&nbsp;'}, {'headline': \"Dem senator who ditched Tesla to protest Musk refuses to call violence against cars 'domestic terrorism'\", 'text': 'FIRST ON FOX: Democratic Sen. Mark Kelly of Arizona, who ditched his Tesla last month, refused to label recent violence at Tesla dealerships in protest of Elon Musk’s DOGE efforts as \"domestic terrorism,\" a term that has been used by Republicans and the Justice Department.&nbsp; \"Certainly vandalism and it\\'s a crime,\" Kelly told Fox News Digital when asked if the violence at Tesla dealerships in response to DOGE amounted to terrorism. \"It\\'s a significant crime, especially if you\\'re going to firebomb a car or vandalize somebody\\'s vehicle or even key somebody\\'s vehicle. They shouldn\\'t be doing it. And these should be investigated. And if people are caught, they should be prosecuted.\" Attorney General Pam Bondi and Elon Musk have both called the violence \"domestic terrorism\" in recent weeks. TOP FINANCIAL OFFICIALS SOUND ALARM ON \\'UNCONSCIONABLE\\' ECONOMIC IMPACT OF DOGE PROTEST VIOLENCE: LETTER  When pressed by Fox News Digital on not using the word terrorism, Kelly said, \"I think we\\'ve got to tread lightly on the whole ‘terrorism’ word.\" \"We sometimes try to expand this thing, it kind of loses its focus. But when folks are vandalizing people\\'s vehicles or dealerships, it is wrong and it\\'s dangerous. Somebody is going to get hurt. And for that reason, we should put, you know, the full force of law enforcement to this problem and prosecute people.\" THE LOUDEST SILENCE: TOP DEMOCRATS REMAIN MUM AMID VIOLENT ATTACKS ON TESLA  While Kelly went further than most top Democrats in condemning the violence, many in the party have faced criticism from conservatives for refusing to use the phrase \"domestic terrorism\" to describe violent incidents against Tesla, including shots fired at a building, destroyed dealership windows, charging stations and cars set on fire, and vandalism of Tesla cars. Fox News Digital recently&nbsp;reached out to over a dozen Democrats who previously railed against the dangers of domestic terrorism, asking them if they condemned the Tesla violence. None of the Democrats responded. Kelly made headlines last month when he announced that he was&nbsp;ditching his personal Tesla because it was \"a rolling billboard for a man dismantling our government and hurting people.\"&nbsp; Kelly added that he believes Musk turned out to be an \"a--hole\" and later announced that he had switched to a Chevy Tahoe SUV.  The violence against Tesla has spurred outrage on the right as many Democrats remain silent. Rep. Lauren Boebert, R-Colo., on Tuesday introduced a resolution in the House of Representatives that slams unnamed members of the Democratic Party, who it says \"have made calls for their supporters to incite and engage in domestic terrorism by attacking Tesla vehicles and facilities to protest Elon Musk.\" \"The definition of terrorism is the unlawful use of violence and intimidation in the pursuit of political aims. That is exactly what has been going on across the country at Tesla dealerships, and it is what innocent Americans who chose Tesla as their preferred vehicle are facing in the wake of violence from Radical Left-Wing domestic terrorists who hate President Donald Trump and Elon Musk,\" Boebert told Fox News Digital.  CLICK HERE TO GET THE FOX NEWS APP The resolution cites \"at least\" 80 incidents of arson or vandalism against Tesla vehicles and 10 incidents of vandalism against Tesla dealerships, charging stations and facilities throughout the U.S. and Canada.  Incidents include individuals setting fire to cars and equipment by throwing Molotov cocktails, shooting up buildings and vehicles, and marking private property with words like \"Nazi\" and \"Long Live Ukraine.\" Among the incidents cited by the resolution is the March 18 attack in Las Vegas, in which a person dressed in black shot at Tesla cars at a Tesla collision center, ignited several of them with Molotov cocktails, and spray-painted the word \"Resist\" on the front doors of the shop. Fox News Digital\\'s Peter Pinedo contributed to this report.'}]\n"
     ]
    }
   ],
   "source": [
    "headers = {'User-Agent': \"Mozilla/5.0 (Macintosh; Intel Mac OS X 10_11_2) AppleWebKit/601.3.9 (KHTML, like Gecko) Version/9.0.2 Safari/601.3.9\"}\n",
    "fox_URL = \"https://www.foxnews.com/politics/house-republicans-brush-off-stefaniks-trump-admin-upheaval-amid-high-stakes-florida-race\"\n",
    "\n",
    "fox_data = []\n",
    "for url in fox_URLs:\n",
    "    fox_r = requests.get(url=url, headers=headers)\n",
    "    #print(fox_r.content[:1000])\n",
    "    fox_soup = BeautifulSoup(fox_r.content, 'html5lib')\n",
    "    table = fox_soup.find('head')\n",
    "    for row in table.find('script', attrs = {'data-n-head':'ssr', 'type':'application/ld+json'}):\n",
    "        to_string = json.loads(row)\n",
    "        fox_article = {}\n",
    "        fox_article['headline'] = to_string['headline']\n",
    "        fox_article['text'] = to_string['articleBody']\n",
    "        fox_data.append(fox_article)\n",
    "    #print(\"done!\")\n",
    "    time.sleep(10)\n",
    "#print(fox_data[:1000])"
   ]
  },
  {
   "cell_type": "code",
   "execution_count": 33,
   "id": "a984b925",
   "metadata": {},
   "outputs": [
    {
     "name": "stdout",
     "output_type": "stream",
     "text": [
      "{'headline': \"Pence group lashes out at Trump tariffs ahead of 'Liberation Day' event: 'Tax on American consumers'\", 'text': 'Former Vice President Mike Pence\\'s policy advocacy organization came out against President Donald Trump\\'s \"Liberation Day,\" arguing his tariff plans \"are essentially a tax on American consumers and businesses.\" In a post on X on Wednesday, along with a letter to Congress, the group Advancing American Freedom (AAF) stated the tariffs \"are essentially a tax on American consumers and businesses.\" This marks one of the rare occasions when the group, founded in 2021 based on the principles of Trump’s first term, has opposed his policies. \"Congress has a constitutional responsibility to reclaim its authority over taxation,\" AAF\\'s general counsel Marc Wheat wrote in the letter. TRUMP\\'S 11TH WEEK IN OFFICE SET TO FOCUS ON TARIFFS AS PRESIDENT TOUTS ‘LIBERATION DAY’  Wheat said Congress could achieve this by passing Sen. Mike Lee\\'s Article One Act, which was introduced in 2023 under the Biden administration. The bill would require Congress to approve national emergency declarations declared by the president within 30 days as well as place other barriers around such orders. \"The Framers knew from experience the dangers of abuse of the taxing power,\" Wheat wrote.&nbsp; Trump is expected to roll out his plan for reciprocal tariffs, which would impose higher taxes on countries that export goods to the U.S. on Wednesday afternoon, dubbing it \"Liberation Day.\" CANADIAN PRIME MINISTER MARK CARNEY SAYS ‘OLD RELATIONSHIP’ WITH US ‘IS OVER\\' AMID TENSION OVER TRUMP TARIFFS  \"April 2, 2025, will go down as one of the most important days in modern American history,\" White House press secretary Karoline Leavitt said during Tuesday\\'s White House press briefing. \"Our country has been one of the most open economies in the world, and we have the consumer base, hands down – the best consumer base. But too many foreign countries have their markets closed to our exports. This is fundamentally unfair.\"&nbsp; \"The lack of reciprocity contributes to our large and persistent annual trade deficit that\\'s gutted our industries and hollowed out key workforces,\" she continued. \"But those days of America, beginning tomorrow, being ripped off, are over. American workers and businesses will be put first under President Trump, just as he promised on the campaign trail.\"&nbsp; TRUMP PRESSES 4 GOP SENATORS AHEAD OF ANTI-CANADIAN TARIFF VOTE, ACCUSING THEM OF \\'TDS\\'  The White House has been discreet about Trump\\'s planned tariff announcement, only explaining reciprocal tariffs will restore fairness to U.S. trading after decades of disproportionate trade deals with other countries. \"I think it\\'s going to be something that\\'s going to bring a lot of wealth back to our country, tremendous wealth back to our country, actually,\" Trump told the media Monday. \"And, other countries are understanding, because they\\'ve been ripping us for 50 years, longer.\"&nbsp;  Trump and his administration said the tariff plan will boost business in the U.S. by encouraging companies to establish operations on American soil to bypass the tariffs, thereby creating job opportunities for American workers. CLICK HERE TO GET THE FOX NEWS APP In February, Trump signed executive orders imposing 25% tariffs on most goods imported from Canada and Mexico – citing national security concerns related to drug trafficking and illegal immigration – with Canadian oil and energy exports facing a 10% tariff.&nbsp; Fox News Digital\\'s Emma Colton contributed to this report.'}\n",
      "{'headline': \"Reporter's Notebook: April Fools' on Capitol Hill\", 'text': 'These aren’t April Fools’ pranks. Yes, director Oliver Stone actually testified at a House hearing on the JFK assassination on April Fools’ Day this year. It was the first congressional hearing on President John F. Kennedy’s death since 1992. Stone then held a press availability. BOOKER CONCLUDES RECORD 25-HOUR SPEECH AGAINST TRUMP, MUSK MARKING THE LONGEST EVER ON THE SENATE FLOOR&nbsp;  Not on the grassy knoll. But in a corridor outside the hearing room. Surely this next item is an April Fools’ prank. Yes, House Republicans scheduled a hearing on what they believe is overreach by federal judges in their rulings against the Trump administration. And then a small group of Republicans blocked the House from even debating a GOP bill to rein in those judges. The reason? A dispute over whether the House should allow members who are pregnant or are new moms to vote remotely. ANNA PAULINA LUNA FORCES HOUSE LEADERSHIP\\'S HAND ON PROXY VOTING AS GOP WAR ESCALATES  House Speaker Mike Johnson, R-La., then sent the House home for the week Tuesday afternoon – after less than two days of work. You can’t make this stuff up. Or what about Sen. Cory Booker, D-N.J., giving a speech to rail against the Trump administration on the Senate floor which began at 7 p.m. ET on March 31 – but didn\\'t conclude until after 8 p.m. ET on April 1? In the process, Booker broke the Senate record for the longest speech in Senate history: 25 hours and five minutes. Booker bested the old mark of 24 hours and 18 minutes set by the late Sen. Strom Thurmond, R-S.C., in 1957 over a civil rights bill. But the hardest thing to believe about Booker’s marathon speech? A reporter asked the New Jersey Democrat if he wore a catheter or a diaper to get through the 25-hour stretch.  April Fool? \"I don’t want my doctor to get mad at me, but I spent time dehydrating myself beforehand so I did not have to go to the bathroom,\" said Booker. \"My strategy was to stop eating. I think I stopped eating on Friday. And then to stop drinking the night before I started on Monday.\" Now, the greatest April Fools’ joke of all? Despite Booker’s protracted oratory, one can argue that he wasn’t \"filibustering.\" \"Filibustering\" in the Senate is in the eye of the beholder. Or the mouth of the senator. The Senate features unlimited debate. And the act of \"filibustering\" carries a negative connotation. Opponents may pejoratively deride the other side as \"filibustering\" their bill or a nomination. But a senator might claim they’re not filibustering. They’re simply using a Senate prerogative.  But it’s an issue of debate whether Booker was actually \"holding something up.\" That’s the most defining characteristic of a filibuster. A senator can derail or delay Senate business. On the one hand, the Senate had no votes officially locked in for Tuesday. The Senate voted (ironically) to break a filibuster on the nomination of Matthew Whitaker to serve as ambassador to NATO at 7 p.m. ET Monday. That’s when Booker began his speech. By rule, the Senate can take up to 30 hours after cracking a filibuster before the confirmation vote takes place. It was presumed that the Senate would vote at some point on Tuesday to confirm Whitaker. Whitaker’s nomination wasn’t the most controversial thing before the Senate. But if senators consumed all the time afforded them after vaulting the filibuster, the Senate would automatically vote to confirm Whitaker at 1 a.m. ET Wednesday. That’s 30 hours after clearing the filibuster. So, it can be argued that Booker had a window under which to operate – which might make his address just a really long speech – and not a filibuster. Sen. Tim Kaine, D-Va., hoped to force a vote on a resolution to kneecap President Donald Trump’s tariffs on Canada on Tuesday. It would end the president’s emergency declaration to justify the tariffs. But that roll call vote wasn’t set either. So that means Booker wasn’t necessarily filibustering. WHITE HOUSE WARNS OF TRUMP VEOT IF TIM KAINE ‘STUNT’ VOTE TO CANCEL TARIFFS PASSES SENATE&nbsp;  Hollywood and \"Mr. Smith Goes to Washington\" imbued the public consciousness with the idea that a lengthy speech is automatically a filibuster. And often very dramatic. But in the Senate, most filibusters are silent. \"Filibustering\" is frequently the threat that senators will oppose something. Or, at the very least, oppose something so that the majority leader must jump through procedural hurdles to clear a filibuster. That’s what the Senate executed Monday night with a procedural vote to end the filibuster on the Whitaker nomination. So Booker’s stem-winder may have just been a slight delay. But not a filibuster in the most conventional sense. The Senate confirmed Whitaker Tuesday night after Booker concluded. But it’s also worth noting that Booker did not speak consecutively for 25-plus hours. So, was this truly a record-breaking speech? Yes, but a more accurate way to characterize his feat is that Booker established a new record for holding the Senate floor the longest.  During his speech, Booker would periodically \"yield for a question\" to a colleague while \"maintaining\" his right to the floor. Booker would speak for a while. And when his voice grew raspy, he’d yield to a host of Democrats: Sens. Chris Murphy, D-Conn., Tina Smith, D-Minn., Kirsten Gillibrand, D-N.Y., Tammy Duckworth, D-Ill., and&nbsp;Senate Minority Leader Chuck Schumer, D-N.Y. They’d each speak for 10 or 15 minutes. And then punctuate the end of their speech with an interrogative – sending things back over to Booker. This is \"legal\" in the Senate. Booker still had control of the floor so long as he remained standing. But it gave him a timeout to relax and recharge for a few moments. Kind of like calling in a relief pitcher from the bullpen for an inning or two. In track and field, officials sometimes dot a record-breaking sprint with an asterisk – noting that the mark was \"wind assisted.\" One could certainly make the case that Booker’s effort was \"wind assisted\" – via the \"wind\" of fellow senators consuming time with their own speeches. But Booker’s endeavor does not require a parliamentary asterisk. Here’s why: Strom Thurmond set the record for the longest \"speech\" in 1957. He began one evening and ended a little more than 24 hours later.  In Thurmond’s day, there was little TV. Certainly no C-Span. Many reporters didn’t even know what Thurmond was up to until the next morning. And Thurmond’s speech wasn’t even in the papers until the day after that. As a result, Thurmond didn’t have to hold the floor as strictly as Booker did. Fox has found that Thurmond left the floor at least several times during his speech. He used the restroom. Grabbed a sandwich in the cloakroom. Deferred to Senate Majority Leader Lyndon Johnson, D-Texas, the future president, to approve a few bills via unanimous consent and even swear in a new senator. If a tree falls in the forest... One can applaud Thurmond’s stamina. But Thurmond’s achievement is not any more significant than Booker’s from an endurance standpoint. Thurmond used certain timeouts to get the record. And so did Booker. And now Booker holds the record.  But because it was April Fools’ Day, would you believe it if I told you that U.S. Capitol Police arrested an aide to Booker for allegedly carrying a firearm inside the Capitol complex? How did the aide get into the Capitol complex with a handgun? Fox confirmed that Booker himself led the aide around a security checkpoint in the Hart Senate Office Building. That isn’t supposed to happen. And U.S. Capitol Police aren’t supposed to let lawmakers bring people into the complex without going through security. CLICK HERE TO GET THE FOX NEWS APP If I told you this all happened, you probably wouldn’t have believed it because it was April Fool’s Day. But this is Congress. And even April Fools’ Day is just another day on Capitol Hill.'}\n"
     ]
    }
   ],
   "source": [
    "print(fox_data[2])\n",
    "print(fox_data[3])"
   ]
  },
  {
   "cell_type": "code",
   "execution_count": 4,
   "id": "42090608",
   "metadata": {},
   "outputs": [
    {
     "name": "stdout",
     "output_type": "stream",
     "text": [
      "[{'headline': \"House Republicans brush off Stefanik's Trump admin upheaval amid high-stakes Florida race\", 'text': 'House Republicans are brushing off reports of anxiety over three historically red congressional seats, as the special election for two of them looms just a day away. \"Jimmy Patronis and Randy Fine are exactly who House Republicans need to join our team,\" House Majority Whip Tom Emmer, R-Minn., told Fox News Digital last week, referring to candidates running in Florida\\'s special election Tuesday. Patronis is running for Florida\\'s 1st Congressional District, which was vacated by former Rep. Matt Gaetz, R-Fla., and Fine is running for Florida 6th District, previously held by former Rep. Mike Waltz, R-Fla., who now serves as U.S. national security advisor. Republicans have conceded they have been far outraised in those districts, and despite their likely victory, Democrats\\' over-performance has reportedly raised concerns about the GOP\\'s fate in other areas of the country. ELISE STEFANIK DETAILS ‘TEAM PLAYER’ DECISION TO REMAIN IN CONGRESS AFTER TRUMP REQUEST TO PULL UN NOMINATION  It comes after suggestions that GOP discord in a Republican-favored district in upstate New York made some people nervous about Rep. Elise Stefanik, R-N.Y., ascending to President Donald Trump\\'s nomination as ambassador to the United Nations. Stefanik withdrew her nomination on Friday in a decision that blindsided even lower levels of House GOP leadership, sources told Fox News Digital. Democrats immediately seized on the news as evidence that Republicans were worried about losing her seat in New York\\'s 21st District – something Republicans flatly denied, while blaming the state\\'s progressive governor for signaling she would slow-walk the special election to replace Stefanik. \"It was a combination of the New York corruption that we\\'re seeing under Kathy Hochul, special elections and the House margin,\" Stefanik said on \"Hannity\" Friday. \"I\\'ve been in the House. It\\'s tough to count these votes every day. And we are going to continue to defy the political prognosticators and deliver, deliver victory on behalf of President Trump and, importantly, the voters across this country.\" TRUMP ASKS STEFANIK TO WITHDRAW FROM UN AMBASSADOR CONTENTION OVER RAZOR-THIN HOUSE MAJORITY  Meanwhile, National Republican Congressional Committee (NRCC) spokeswoman Maureen O\\'Toole told Fox News Digital, \"We’d win this seat in a special election, and we’ll win it in a general election.\" Trump won the district by 20% in 2024, and Stefanik won every county during that same election cycle. He told reporters at the White House last week, \"We cannot take a chance. We have a slim margin,\" and said he did not know who would be running to replace her. But the president has also been busy at work in Florida, where he held tele-town halls for both Patronis and Fine over the weekend. While the Democrats are the underdogs in both races, they\\'re winning the fundraising battle. Democrat Gay Valimont hauled in over $6 million from Jan. 9 through March 12, compared to just $1.1 million for Patronis in Florida\\'s 1st District.&nbsp; Orlando teacher Josh Weil grabbed plenty of national attention in recent weeks by raising $9.3 million compared to roughly $600,000 for Republican state lawmaker Fine in the Sunshine State\\'s 6th District. The cash discrepancy in the 6th District race spurred GOP-aligned outside groups to make last-minute contributions in support of Fine in the closing days of the campaign, with conservative super PACs launching ads spotlighting Trump\\'s support of Fine.  They have no predictions of success, however, with House Minority Leader Hakeem Jeffries, D-N.Y., telling reporters earlier this month, \"These districts are so Republican, there would ordinarily be no reason to believe that the races will be close, but what I can say, almost guaranteed, is that the Democratic candidate in both of these Florida special elections will significantly overperform.\" CLICK HERE TO GET THE FOX NEWS APP But it has not alarmed the GOP\\'s core fundraising machines. Sources familiar told Fox News Digital that neither the NRCC nor the Congressional Leadership Fund – the top super PAC supporting House Republicans – are putting any resources into either race.  \"I would have preferred if our candidate had raised money at a faster rate and gotten on TV quicker,\" NRCC Chairman Richard Hudson, R-N.C., told reporters earlier this month. But Hudson added that Fine is \"doing what he needs to do. He’s on TV now,\" and emphasized, \"we’re going to win the seat. I’m not concerned at all.\"'}]\n"
     ]
    }
   ],
   "source": [
    "import json\n",
    "fox_articles=[]\n",
    "table = fox_soup.find('head')\n",
    "for row in table.find('script', attrs = {'data-n-head':'ssr', 'type':'application/ld+json'}):\n",
    "    to_string = json.loads(row)\n",
    "    fox_article = {}\n",
    "    fox_article['headline'] = to_string['headline']\n",
    "    fox_article['text'] = to_string['articleBody']\n",
    "    fox_articles.append(fox_article)\n",
    "print(fox_articles)"
   ]
  },
  {
   "cell_type": "markdown",
   "id": "e4944d55",
   "metadata": {},
   "source": [
    "### Vox Parser"
   ]
  },
  {
   "cell_type": "code",
   "execution_count": 5,
   "id": "ec328efa",
   "metadata": {},
   "outputs": [
    {
     "name": "stdout",
     "output_type": "stream",
     "text": [
      "b'<!DOCTYPE html><html lang=\"en-US\"><meta name=\"bingbot\" content=\"nocache\"/><head><meta charSet=\"utf-8\"/><meta name=\"twitter:card\" content=\"summary_large_image\"/><meta name=\"twitter:site\" content=\"@voxdotcom\"/><meta property=\"fb:app_id\" content=\"549923288395304\"/><meta property=\"og:site_name\" content=\"Vox\"/><meta name=\"viewport\" content=\"width=device-width, initial-scale=1, shrink-to-fit=no\"/><meta name=\"apple-mobile-web-app-title\" content=\"Vox\"/><link rel=\"alternate\" type=\"application/rss+xml\" title=\"Vox\" href=\"/rss/index.xml\"/><title>Trump\\xe2\\x80\\x99s most arrogant action threatens his alliance with the Supreme Court | Vox</title><meta name=\"robots\" content=\"index,follow,max-image-preview:large\"/><meta name=\"description\" content=\"\\xef\\xbb\\xbfMaybe targeting John Roberts\\xe2\\x80\\x99s law school classmates is a bad idea?\"/><meta property=\"og:title\" content=\"The cockiest thing Trump has done so far\"/><meta property=\"og:description\" content=\"\\xef\\xbb\\xbfMaybe targeting John Roberts\\xe2\\x80\\x99s law school classmates is a bad idea?\"/'\n"
     ]
    }
   ],
   "source": [
    "\n",
    "vox_URL = \"https://www.vox.com/scotus/406277/supreme-court-donald-trump-law-firms-arrogant\"\n",
    "\n",
    "vox_data = []\n",
    "for url in vox_URLS:\n",
    "    vox_r = requests.get(url=vox_URL, headers=headers)\n",
    "    print(vox_r.content[:1000])\n",
    "    vox_soup = BeautifulSoup(vox_r.content, 'html5lib')\n",
    "    time.sleep(10)\n",
    "    vox_data.append(vox_soup)\n",
    "#print(vox_soup.prettify())\n"
   ]
  },
  {
   "cell_type": "code",
   "execution_count": 7,
   "id": "44bfe41b",
   "metadata": {},
   "outputs": [
    {
     "name": "stdout",
     "output_type": "stream",
     "text": [
      "29 [{'headline': 'The cockiest thing Trump has done so far', 'subheading': '\\ufeffMaybe targeting John Roberts’s law school classmates is a bad idea?', 'text': ['All nine of the Supreme Court justices are lawyers. All of them have friends and law school classmates in private practice. All of them sit at the apex of a legal system that depends on lawyers to brief judges on the matters those judges must decide. Many of them were themselves litigators at large law firms, where their livelihood depended on their ability to advocate for their clients without fear of personal reprisals. ', 'So it’s hard to imagine a presidential action that is more likely to antagonize the justices President Donald Trump needs to uphold his agenda, not to mention every other federal judge who isn’t already in the tank for MAGA, than a series of executive orders Trump has recently issued. These actions aim to punish law firms that previously represented Democrats or clients opposed to Trump. ', 'The lawyers targeted by these orders are the justices’ friends, classmates, and colleagues. It would likely be easy for, say, Chief Justice John Roberts or Justice Brett Kavanaugh to empathize with law partners who do the exact same work they once did.', 'The striking thing about all the law firm executive orders is that they barely even attempt to justify Trump’s decision with a legitimate explanation for why these orders are lawful.', 'The order targeting law firm Perkins Coie attacks the firm for “representing failed Presidential candidate Hillary Clinton” in its second sentence. The order targeting WilmerHale accuses it of engaging “in obvious partisan representations to achieve political ends,” as if Democrats do not have the same right to hire lawyers who advocate on their behalf that everyone else does. ', 'The order targeting Jenner & Block justifies that attack because the firm once hired Andrew Weissmann, a prominent television legal commentator who, in the executive order’s words, engaged “in partisan prosecution as part of Robert Mueller’s entirely unjustified investigation” into Trump. Weissmann left Jenner in 2021.', 'The sanctions laid out in these orders, moreover, are extraordinary. They attempt to bar the firms’ attorneys and staff from federal buildings, preventing lawyers representing criminal defendants from engaging in plea bargaining with federal prosecutors – and potentially preventing lawyers who practice before federal agencies from appearing before those agencies at all. They also seek to strip security clearances from the firm’s lawyers, and to strip federal contracts from companies that employ the targeted law firms.', 'It’s hard to think of a precedent for this kind of sweeping attack on a business that did some work for a president’s political opponents. During the second Bush administration, a political appointee in the Defense Department criticized lawyers who represent Guantanamo Bay detainees and suggested that their firms’ clients should look elsewhere for legal representation. But that official apologized shortly thereafter. And he resigned his position three weeks after his widely criticized comments.', 'Bush himself did not attempt anything even resembling the sanctions Trump now seeks to impose on law firms.', 'As Perkins Coie argues in a lawsuit challenging the order against that firm, these sanctions are an existential threat to the firms Trump is targeting. Perkins says that it “has nearly 1,000 active matters that require its lawyers to interact with more than 90 federal agencies,” and it fears it can’t continue many of those representations if it isn’t even allowed into the building to meet with government officials. Similarly, the firm says many of its biggest clients, including its 15 biggest clients, “have or compete for government contracts” that could be cancelled unless those clients fire the firm.', 'Trump, in other words, is claiming the power to exterminate multi-billion dollar businesses, with over a thousand lawyers and as many support staff, to punish them for things as innocuous as representing a Democrat in 2016.', 'It’s hard to count all the ways these orders violate the Constitution. Perkins, in its lawsuit, alleges violations of the First Amendment right to free speech and free association, due process violations because it was given no hearing or notice of the sanctions against it, separation of powers violations because no statute authorizes Trump to sanction law firms in this way, and violations of their clients’ right to choose their own counsel – among other things. ', 'The Trump administration has not yet filed a brief laying out its response to these arguments, but in a hearing, one of its lawyers claimed that the Constitution gives the president inherent authority to “find that there are certain individuals or certain companies that are not trustworthy with the nation’s secrets.”', 'Normally, when a litigant wants the courts to permit something that obviously violates existing law, they try to raise the issue in a case that paints them in a sympathetic light. But Trump has chosen to fight this fight on the most unfavorable ground imaginable:', 'There may be a perverse logic to Trump’s decision to fight on such unfavorable terrain. If he wins the right to punish law firms for representing a prominent Democrat a decade ago, it is unlikely that the Supreme Court will stop him from doing anything at all in the future. Most lawyers will be too scared of retaliation to even bring lawsuits challenging Trump’s actions. Already, one of the firms targeted by Trump, Paul Weiss, appears to have caved to him by agreeing to do $40 million worth of free legal work on causes supported by Trump’s White House. (Like Perkins, Wilmer and Jenner sued to block the orders targeting them.)', 'And, of course, if Trump’s endgame is to openly defy the courts, an obviously unconstitutional executive order targeting law firms that are in the business of suing the government is a good way to bring about that endgame quickly.', 'These stunning executive orders dare the courts to either make themselves irrelevant, or to trigger what could be the final showdown over the rule of law.', 'If you want to understand how litigants normally proceed when they want to convince the courts to make audacious changes to the law, consider Sweatt v. Painter (1950), a case brought by future Justice Thurgood Marshall a few years before he successfully convinced the justices to declare public school segregation unconstitutional in Brown v. Board of Education (1954).', 'Marshall’s goal was to convince the justices that, as they eventually concluded in Brown, “separate education facilities are inherently unequal,” even if a state attempted to equalize the resources provided to segregated Black and white schools. Before he brought the much more difficult challenge to K-12 segregation, however, Marshall chose a more favorable ground to fight for integrated educational facilities: law schools.', 'In Sweatt, a Black man was denied admission to the University of Texas Law School solely because of his race. Rather than integrate UT, Texas opened a new law school for aspiring Black lawyers, and argued that this facility solved the constitutional problem because now Black law students could receive a similar education to the one they would receive at the state’s flagship university.', 'But the justices, all of whom were lawyers, understood the subtle hierarchies of the legal profession — in which where you go to law school can determine the entire trajectory of your career — all too well to be fooled by this arrangement. ', 'As the Court’s unanimous decision explained, “the University of Texas Law School possesses to a far greater degree those qualities which are incapable of objective measurement but which make for greatness in a law school” – qualities like a reputation for excellence, and an alumni network full of successful lawyers eager to lend a hand to UT’s graduates. ', 'Marshall, in other words, understood that, by appealing to the professional sensibilities of the justices, he could make them see that the concept of “separate but equal” is at odds with itself. And once those justices took the easy step of empathizing with law students denied access to an elite school, it was much easier to get them to see themselves in grade school students shunted into an inferior elementary school.', 'Trump has done the exact opposite of what Marshall did in Sweatt. And that means that the same empathy that Marshall’s clients benefitted from in Sweatt and Brown is likely to cut against Trump.', 'Not only that, but the justices who will ultimately hear this case are likely to have unique sympathy for lawyers attacked by a politician seeking to discredit them, because many of them experienced just that in their confirmation hearings.', 'When Chief Justice John Roberts was nominated to the Supreme Court, for example, one of the few controversies surrounding his nomination was whether the positions he took as a lawyer representing a client could be attributed to him personally. Roberts had been a judge for only about two years when he was nominated for the Supreme Court, so his judicial record was quite thin, and some Democrats and their allies hoped to point to his work as a lawyer to discredit him. Among other things, they pointed to a brief Roberts signed as a Justice Department lawyer, which argued that Roe v. Wade should be overruled.', 'The White House and Senate Republicans’ defense of Roberts at the time was that a lawyer’s job is to represent their clients’ interests, even if they do not agree with the client. So it is unfair to attribute a former client’s views to their lawyer. And this was an excellent defense! The Constitution gives everyone a right to hire legal counsel to represent them before the courts. This entire system breaks down if lawyers who represent unpopular clients or positions face professional sanction for doing so.', 'The point is that the most powerful judge in the country, like numerous other judges who’ve had their careers probed by the Senate Judiciary Committee, has a very personal stake in the question of whether lawyers can be punished because the wrong elected officials don’t like their clients. ', 'That does not mean that the author of the Court’s unconscionable Trump immunity decision will suddenly have an epiphany and turn against Donald Trump. But if Trump’s goal is to turn Roberts (and numerous other judges) against him, attacking lawyers who stand in very similar shoes to the ones Roberts wore 20 years ago is a pretty good way to do it.']}]\n"
     ]
    }
   ],
   "source": [
    "vox_articles=[]\n",
    "vox_table = vox_soup.find('div', attrs = {'class':'duet--article--lede duet--page-layout--standard-article'})\n",
    "#print(type(vox_table))\n",
    "for row in vox_table.find_next('div', attrs = {'class':'duet--article--article-body-component'}, recursive=False):\n",
    "    #print(row)\n",
    "    vox_article = {}\n",
    "    vox_article['headline'] = vox_table.find('h1', attrs = {'class':'h74scy1 h74scy0 h74scy6 xkp0cga xkp0cg9'}).text\n",
    "    vox_article['subheading'] = vox_table.find('p', attrs = {'class':'duet--article--dangerously-set-cms-markup h74scyh h74scyg xkp0cga'}).text\n",
    "    vox_article['text'] = [i.text for i in vox_table.find_all_next('p', attrs = {'class':'duet--article--dangerously-set-cms-markup duet--article--standard-paragraph _1agbrixi lg8ac51 lg8ac50 xkp0cg1'})]\n",
    "    vox_articles.append(vox_article)\n",
    "print(len(vox_article['text']), vox_articles)\n"
   ]
  },
  {
   "cell_type": "markdown",
   "id": "b225f2c6-65ca-4ff7-8f4c-9a87dde94d24",
   "metadata": {},
   "source": [
    "The below functions for extracting news data from Fox News were heavily based on an existing Fox News webscraper published on GitHub by the user StickmanNinja. The license for the scraper is Apache 2.0. I have adjusted the below functions to make them conducive to Python 3.0 (original scraper appears to have been made using an earlier version of Python), and have changed several of the variable names.\n",
    "\n",
    "Here is a link to the repository for the webscraper: [Fox-News-Web-Scraper](https://github.com/StickmanNinja/Fox-News-Web-Scraper/tree/master)"
   ]
  },
  {
   "cell_type": "code",
   "execution_count": null,
   "id": "8f4e37d1-194f-4083-8e9c-210dfd5b371d",
   "metadata": {},
   "outputs": [],
   "source": [
    "#https://github.com/StickmanNinja/Fox-News-Web-Scraper/blob/master/FoxNewsScraper.py\n",
    "def title_url(fox_art):\n",
    "    articlesList = []\n",
    "    for text in fox_art:\n",
    "        print(text)\n",
    "        tag = text.find(\"a\")\n",
    "        #tag = text.find(\"h3\", {'class':'title'})\n",
    "        print(tag)\n",
    "        title = tag.getText()\n",
    "        url = tag.get(\"href\")\n",
    "        artDict = {\"title\" : title, \"url\" : url}\n",
    "        articlesList.append(artDict)\n",
    "\n",
    "def fox_parser():\n",
    "    URL = \"http://www.foxnews.com/\"\n",
    "    webpage = urllib.request.urlopen(URL)\n",
    "    r  = requests.get(URL)\n",
    "    art_text = r.text\n",
    "    soup = BeautifulSoup(art_text,\"lxml\")\n",
    "    for art in range(0, 100):\n",
    "        fox_articles = soup.find_all(\"article\", class_ =\"article story-\" + str(art))\n",
    "        print(fox_articles)\n",
    "        title_url(fox_articles)\n",
    "        \n",
    "fox_parser()\n",
    "title_url()"
   ]
  },
  {
   "cell_type": "markdown",
   "id": "a403df38-e8d7-4e89-b1c7-453b72034bca",
   "metadata": {},
   "source": [
    "### Parse contents"
   ]
  },
  {
   "cell_type": "code",
   "execution_count": null,
   "id": "d13ae1f3-f7b3-4f4e-9139-26ad6c50f8bb",
   "metadata": {},
   "outputs": [],
   "source": [
    "soup = BeautifulSoup(r.content, 'html5lib')\n",
    "#print(soup.prettify())"
   ]
  },
  {
   "cell_type": "code",
   "execution_count": null,
   "id": "052dd039-b5ed-4943-bd4f-edf1ca563299",
   "metadata": {},
   "outputs": [],
   "source": [
    "#soup.find_all(\"script\")[:1000]"
   ]
  },
  {
   "cell_type": "code",
   "execution_count": null,
   "id": "7a45d719-b882-43da-bc4b-3dbc315fe039",
   "metadata": {},
   "outputs": [],
   "source": [
    "#soup.find('data-n-head'==\"ssr\")"
   ]
  },
  {
   "cell_type": "code",
   "execution_count": null,
   "id": "bce46cda-9468-42a4-9382-11cd54875a67",
   "metadata": {},
   "outputs": [],
   "source": [
    "#headline_text=[]\n",
    "#table = soup.find('script')\n",
    "#for row in table.find_all('script', attrs = {'data-n-head':'ssr', 'type': 'application/ld+json'}):\n",
    "    #return(row)\n",
    "    #headline = row.find('headline').text.strip()\n",
    "    #text = row.find('articleBody').text.strip()\n",
    "    #title_text.append({'headline': headline, 'text':text})"
   ]
  },
  {
   "cell_type": "code",
   "execution_count": null,
   "id": "30d62732-d1f9-4524-b780-303cb3be90d4",
   "metadata": {},
   "outputs": [],
   "source": [
    "#headline_text"
   ]
  },
  {
   "cell_type": "markdown",
   "id": "d2581d93-8137-4e55-bf95-7a3793914532",
   "metadata": {},
   "source": [
    "## Part 2: Uploading and parsing subjective intensifiers data"
   ]
  },
  {
   "cell_type": "markdown",
   "id": "eed2e262-42f6-4fe8-af3f-558b684d3ba5",
   "metadata": {},
   "source": [
    "#### Import dependencies"
   ]
  },
  {
   "cell_type": "code",
   "execution_count": null,
   "id": "41bd7d8a-1a42-4a7c-9f31-01fc141557ab",
   "metadata": {},
   "outputs": [],
   "source": [
    "import numpy as np\n",
    "import pandas as pd\n",
    "import re"
   ]
  },
  {
   "cell_type": "markdown",
   "id": "18463252-ee22-46ee-b922-b2678430b2f9",
   "metadata": {},
   "source": [
    "#### Read in data"
   ]
  },
  {
   "cell_type": "code",
   "execution_count": null,
   "id": "147cae81-75aa-4ef3-9710-e2f608a67bf6",
   "metadata": {
    "scrolled": true
   },
   "outputs": [],
   "source": [
    "#https://stackoverflow.com/questions/64966365/parse-sgml-using-beautiful-soup\n",
    "with open(\"acl-99-data/subjectivity.data\", \"r\") as f:\n",
    "    entries = f.read()\n",
    "    soup = BeautifulSoup(entries, \"html.parser\")\n",
    "print(soup)\n",
    "type(soup)"
   ]
  },
  {
   "cell_type": "code",
   "execution_count": null,
   "id": "9dedeb95-d059-40dd-9a2e-ab06edc32e8c",
   "metadata": {},
   "outputs": [],
   "source": [
    "sublists = []\n",
    "data_str = str(soup)\n",
    "data_list = data_str.split('<mc')\n",
    "for line in data_list:\n",
    "    line = line.split(' ')\n",
    "    sublists.append(line)\n",
    "\n",
    "for line2 in sublists:\n",
    "    del line2[0]\n",
    "\n",
    "for lines in sublists:\n",
    "    if len(lines) > 10:\n",
    "        print(lines)"
   ]
  },
  {
   "cell_type": "code",
   "execution_count": null,
   "id": "3310ef72-59f5-4cfe-ab58-de1ca8975f1d",
   "metadata": {},
   "outputs": [],
   "source": [
    "#make list of dictionaries for each word\n",
    "listDict = []\n",
    "for sublist in range(len(sublists)):\n",
    "    listDict.append({})\n",
    "len(listDict)\n",
    "\n",
    "#each dictionary is a word\n",
    "attr_list = []\n",
    "for sublist in sublists:\n",
    "    for items in sublist:\n",
    "        item = items.split('=')\n",
    "        attr_list.append(item)\n",
    "\n",
    "attr_List = []\n",
    "group = []\n",
    "for item in attr_list:\n",
    "    if item[0] == 'cluster':\n",
    "        attr_List.append(group)\n",
    "        group = []\n",
    "    group.append(item)\n",
    "\n",
    "for item in items:\n",
    "    for diction in listDict:\n",
    "    #print(item[0])\n",
    "        if item[0] == 'cluster':\n",
    "            diction['cluster'] = item[1]\n",
    "\n",
    "attr_List"
   ]
  },
  {
   "cell_type": "markdown",
   "id": "4bda1209-af5e-4f09-8796-f9ff2e0a5471",
   "metadata": {},
   "source": [
    "#### Creating dataframe from subjective intensifiers data"
   ]
  },
  {
   "cell_type": "markdown",
   "id": "10b00a54-5154-47f9-a0d6-5a0ab62f0a51",
   "metadata": {},
   "source": [
    "#### Basic assessment of data"
   ]
  },
  {
   "cell_type": "code",
   "execution_count": null,
   "id": "3e1f7b24-4341-4321-9356-5800a54a57f6",
   "metadata": {},
   "outputs": [],
   "source": []
  }
 ],
 "metadata": {
  "kernelspec": {
   "display_name": "Python [conda env:base] *",
   "language": "python",
   "name": "conda-base-py"
  },
  "language_info": {
   "codemirror_mode": {
    "name": "ipython",
    "version": 3
   },
   "file_extension": ".py",
   "mimetype": "text/x-python",
   "name": "python",
   "nbconvert_exporter": "python",
   "pygments_lexer": "ipython3",
   "version": "3.12.2"
  }
 },
 "nbformat": 4,
 "nbformat_minor": 5
}
